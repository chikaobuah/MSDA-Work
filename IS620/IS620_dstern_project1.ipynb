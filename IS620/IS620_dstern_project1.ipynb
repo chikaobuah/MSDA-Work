{
 "cells": [
  {
   "cell_type": "markdown",
   "metadata": {},
   "source": [
    "IS 620 Project 1 \n",
    "David Stern\n",
    "\n",
    "For this assignment, I looked at all campaign contributions from residents of New York State to candidates in the 2016 Presidential election. I downloaded this data as a csv file from the most recent quarterly report on the website for the Federal Elections Commission. I then split the data into two csv files - one for nodes (all contributors and candidates, deduplicated) and one for edges (all campaign contributions)."
   ]
  },
  {
   "cell_type": "code",
   "execution_count": 697,
   "metadata": {
    "collapsed": true
   },
   "outputs": [],
   "source": [
    "import networkx as nx\n",
    "import matplotlib.pylab as plt\n",
    "import os\n",
    "import csv"
   ]
  },
  {
   "cell_type": "code",
   "execution_count": 698,
   "metadata": {
    "collapsed": true
   },
   "outputs": [],
   "source": [
    "os.chdir('/Users/davidstern/Downloads/')"
   ]
  },
  {
   "cell_type": "code",
   "execution_count": 699,
   "metadata": {
    "collapsed": true
   },
   "outputs": [],
   "source": [
    "reader = csv.reader(open(\"NYedges.csv\", 'rU'), dialect=csv.excel_tab)"
   ]
  },
  {
   "cell_type": "code",
   "execution_count": 700,
   "metadata": {
    "collapsed": false
   },
   "outputs": [],
   "source": [
    "G = nx.Graph()"
   ]
  },
  {
   "cell_type": "code",
   "execution_count": 701,
   "metadata": {
    "collapsed": false
   },
   "outputs": [],
   "source": [
    "for row in reader:\n",
    "    row = row[0].split(',')\n",
    "    contributor = row[0]\n",
    "    politician = row[1]\n",
    "    G.add_edge(contributor, politician)"
   ]
  },
  {
   "cell_type": "markdown",
   "metadata": {},
   "source": [
    "Here we see that there are over 6000 nodes and edges. There are not many more edges than nodes, meaning that very few people make multiple contributions."
   ]
  },
  {
   "cell_type": "code",
   "execution_count": 702,
   "metadata": {
    "collapsed": false
   },
   "outputs": [
    {
     "name": "stdout",
     "output_type": "stream",
     "text": [
      "Nodes: 6386\n",
      "Edges: 6457\n"
     ]
    }
   ],
   "source": [
    "print \"Nodes: %d\" %nx.number_of_nodes(G)\n",
    "print \"Edges: %d\" %nx.number_of_edges(G)"
   ]
  },
  {
   "cell_type": "markdown",
   "metadata": {},
   "source": [
    "In this next part, we will need to create dictionary objects for all of the keys we want to load into the edges and then set them as nodeattributes."
   ]
  },
  {
   "cell_type": "code",
   "execution_count": 703,
   "metadata": {
    "collapsed": true
   },
   "outputs": [],
   "source": [
    "reader2 = csv.reader(open(\"NYvertices.csv\", 'rU'), dialect=csv.excel_tab)"
   ]
  },
  {
   "cell_type": "code",
   "execution_count": 704,
   "metadata": {
    "collapsed": true
   },
   "outputs": [],
   "source": [
    "cities = {}\n",
    "employer = {}\n",
    "occupation = {}\n",
    "for row in reader2:\n",
    "    row = row[0].split(',')\n",
    "    cities[row[0]] = row[2]\n",
    "    employer[row[0]] = row[5]\n",
    "    occupation[row[0]] = row[5]"
   ]
  },
  {
   "cell_type": "code",
   "execution_count": 705,
   "metadata": {
    "collapsed": true
   },
   "outputs": [],
   "source": [
    "nx.set_node_attributes(G, 'city', cities)\n",
    "nx.set_node_attributes(G, 'employer', employer)\n",
    "nx.set_node_attributes(G, 'occupation', occupation)"
   ]
  },
  {
   "cell_type": "markdown",
   "metadata": {},
   "source": [
    "Now we will see if all of the keys loaded properly. Disclaimer: I am not the David J. Stern listed below."
   ]
  },
  {
   "cell_type": "code",
   "execution_count": 706,
   "metadata": {
    "collapsed": false
   },
   "outputs": [
    {
     "data": {
      "text/plain": [
       "{' BLANCA PICON': {'city': 'NEW YORK',\n",
       "  'employer': 'NYC DEPARTMENT OF EDUCATION',\n",
       "  'occupation': 'NYC DEPARTMENT OF EDUCATION'},\n",
       " ' DAVID J STERN': {'city': 'BROOKLYN',\n",
       "  'employer': 'LURIA ACADEMY OF BROOKLYN',\n",
       "  'occupation': 'LURIA ACADEMY OF BROOKLYN'},\n",
       " ' GREGORY REED': {'city': 'SUNNYSIDE',\n",
       "  'employer': 'JPMORGAN CHASE & CO.',\n",
       "  'occupation': 'JPMORGAN CHASE & CO.'},\n",
       " ' KATHERINE SAILER': {'city': 'NEW YORK',\n",
       "  'employer': 'SELF',\n",
       "  'occupation': 'SELF'},\n",
       " ' MATTHEW LEVINE': {'city': 'NEW YORK',\n",
       "  'employer': 'THE LEGAL AID SOCIETY',\n",
       "  'occupation': 'THE LEGAL AID SOCIETY'}}"
      ]
     },
     "execution_count": 706,
     "metadata": {},
     "output_type": "execute_result"
    }
   ],
   "source": [
    "{k: G.node[k] for k in G.node.keys()[:5]}"
   ]
  },
  {
   "cell_type": "markdown",
   "metadata": {},
   "source": [
    "Now we will calculate degree centrality:"
   ]
  },
  {
   "cell_type": "code",
   "execution_count": 707,
   "metadata": {
    "collapsed": false
   },
   "outputs": [],
   "source": [
    "degree_centrality = nx.degree_centrality(G)"
   ]
  },
  {
   "cell_type": "code",
   "execution_count": 708,
   "metadata": {
    "collapsed": false
   },
   "outputs": [],
   "source": [
    "degree_centrality_sorted = sorted(degree_centrality.iteritems(),key=lambda(k,v):(-v,k))"
   ]
  },
  {
   "cell_type": "code",
   "execution_count": 709,
   "metadata": {
    "collapsed": false
   },
   "outputs": [
    {
     "data": {
      "text/plain": [
       "[(' Hillary Rodham Clinton', 0.6021926389976507),\n",
       " (' Bernard Sanders', 0.09835552075176195),\n",
       " (' Jeb Bush', 0.08081440877055598),\n",
       " (' Marco Rubio', 0.05763508222396241),\n",
       " (\" Rafael Edward 'Ted' Cruz\", 0.03946750195771339),\n",
       " (' Rand Paul', 0.030540328895849646),\n",
       " (' Benjamin S. Carson', 0.02678151918559123),\n",
       " (\" Martin Joseph O'Malley\", 0.01597494126859828),\n",
       " (' George E. Pataki', 0.01456538762725137),\n",
       " (' Lindsey O. Graham', 0.012216131558339859),\n",
       " (' RAFAEL EDWARD TED CRUZ', 0.010806577916992952),\n",
       " (' Carly Fiorina', 0.009083790133124511),\n",
       " (' Mike Huckabee', 0.00845732184808144),\n",
       " (' Richard J. Santorum', 0.001879404855129209),\n",
       " (' James R. (Rick) Perry', 0.0015661707126076742),\n",
       " (' LEWIS VAN AMERONGEN', 0.0006264682850430697),\n",
       " (' WILLIAM B. MR. HOTALING', 0.0006264682850430697),\n",
       " (' Bobby Jindal', 0.00046985121378230227)]"
      ]
     },
     "execution_count": 709,
     "metadata": {},
     "output_type": "execute_result"
    }
   ],
   "source": [
    "degree_centrality_sorted[0:18]"
   ]
  },
  {
   "cell_type": "markdown",
   "metadata": {},
   "source": [
    "With degree centrality, we see that almost all of the top vertices are the candidates themselves. \n",
    "\n",
    "Now we will calculate eigenvalue centrality:"
   ]
  },
  {
   "cell_type": "code",
   "execution_count": 710,
   "metadata": {
    "collapsed": false
   },
   "outputs": [],
   "source": [
    "eigen_centrality = nx.eigenvector_centrality_numpy(G)"
   ]
  },
  {
   "cell_type": "code",
   "execution_count": 711,
   "metadata": {
    "collapsed": true
   },
   "outputs": [],
   "source": [
    "eigen_centrality_sorted = sorted(eigen_centrality.iteritems(),key=lambda(k,v):(-v,k))"
   ]
  },
  {
   "cell_type": "code",
   "execution_count": 712,
   "metadata": {
    "collapsed": false
   },
   "outputs": [
    {
     "data": {
      "text/plain": [
       "[(' Hillary Rodham Clinton', 0.7070997401310243),\n",
       " (' DAVID LEVINE', 0.011459242607468131),\n",
       " (' LYNN MANGUM', 0.011449343928887908),\n",
       " (' ALEXANDRA KORRY', 0.011449343928887907),\n",
       " (' DAVID ROTH', 0.011449343928887907),\n",
       " (' GINA BOONSHOFT', 0.011449343928887907),\n",
       " (' PHILLIP DONAHUE', 0.011449343928887907),\n",
       " (' DONALD RUBIN', 0.011449343928887905),\n",
       " (' FRIEDRIKE MERCK', 0.011449343928887905),\n",
       " (' PATRICK NOLAN', 0.011449343928887905),\n",
       " (' RENEE FEINBERG', 0.011449343928887905),\n",
       " (' GISELA GAMPER', 0.011449343928887903),\n",
       " (' MICHAEL LEVINE', 0.011449343928887903),\n",
       " (' MICHELLE LAVITT', 0.011449343928887901),\n",
       " (' JOHN CATSIMATIDIS', 0.011419214434426408)]"
      ]
     },
     "execution_count": 712,
     "metadata": {},
     "output_type": "execute_result"
    }
   ],
   "source": [
    "eigen_centrality_sorted[0:15]"
   ]
  },
  {
   "cell_type": "markdown",
   "metadata": {},
   "source": [
    "For eigenvector centrality, we see that Hillary Clinton is still at the top, but the other individuals are donors, not candidates. These are likely all high-profile donors are bundlers. John Catsimatidis, for example, is the CEO of Gristedes and entered the Republican primary for Mayor of NYC in 2013."
   ]
  },
  {
   "cell_type": "markdown",
   "metadata": {},
   "source": [
    "In this next part, I was not able to subset the graph object to include only the key values I wanted in certain categories."
   ]
  },
  {
   "cell_type": "markdown",
   "metadata": {},
   "source": [
    "\n"
   ]
  },
  {
   "cell_type": "code",
   "execution_count": 713,
   "metadata": {
    "collapsed": false
   },
   "outputs": [
    {
     "ename": "ValueError",
     "evalue": "too many values to unpack",
     "output_type": "error",
     "traceback": [
      "\u001b[0;31m---------------------------------------------------------------------------\u001b[0m",
      "\u001b[0;31mValueError\u001b[0m                                Traceback (most recent call last)",
      "\u001b[0;32m<ipython-input-713-99c0bb677305>\u001b[0m in \u001b[0;36m<module>\u001b[0;34m()\u001b[0m\n\u001b[0;32m----> 1\u001b[0;31m \u001b[0mattorneys\u001b[0m \u001b[0;34m=\u001b[0m \u001b[0;34m{\u001b[0m\u001b[0mkey\u001b[0m\u001b[0;34m:\u001b[0m\u001b[0mvalue\u001b[0m \u001b[0;32mfor\u001b[0m \u001b[0mkey\u001b[0m\u001b[0;34m,\u001b[0m\u001b[0mvalue\u001b[0m \u001b[0;32min\u001b[0m \u001b[0mG\u001b[0m\u001b[0;34m.\u001b[0m\u001b[0mnode\u001b[0m\u001b[0;34m.\u001b[0m\u001b[0mvalues\u001b[0m\u001b[0;34m(\u001b[0m\u001b[0;34m)\u001b[0m \u001b[0;32mif\u001b[0m \u001b[0mvalue\u001b[0m \u001b[0;34m==\u001b[0m \u001b[0;34m'attorney'\u001b[0m\u001b[0;34m}\u001b[0m\u001b[0;34m\u001b[0m\u001b[0m\n\u001b[0m",
      "\u001b[0;32m<ipython-input-713-99c0bb677305>\u001b[0m in \u001b[0;36m<dictcomp>\u001b[0;34m(***failed resolving arguments***)\u001b[0m\n\u001b[0;32m----> 1\u001b[0;31m \u001b[0mattorneys\u001b[0m \u001b[0;34m=\u001b[0m \u001b[0;34m{\u001b[0m\u001b[0mkey\u001b[0m\u001b[0;34m:\u001b[0m\u001b[0mvalue\u001b[0m \u001b[0;32mfor\u001b[0m \u001b[0mkey\u001b[0m\u001b[0;34m,\u001b[0m\u001b[0mvalue\u001b[0m \u001b[0;32min\u001b[0m \u001b[0mG\u001b[0m\u001b[0;34m.\u001b[0m\u001b[0mnode\u001b[0m\u001b[0;34m.\u001b[0m\u001b[0mvalues\u001b[0m\u001b[0;34m(\u001b[0m\u001b[0;34m)\u001b[0m \u001b[0;32mif\u001b[0m \u001b[0mvalue\u001b[0m \u001b[0;34m==\u001b[0m \u001b[0;34m'attorney'\u001b[0m\u001b[0;34m}\u001b[0m\u001b[0;34m\u001b[0m\u001b[0m\n\u001b[0m",
      "\u001b[0;31mValueError\u001b[0m: too many values to unpack"
     ]
    }
   ],
   "source": [
    "attorneys = {key:value for key,value in G.node.values() if value == 'attorney'}"
   ]
  }
 ],
 "metadata": {
  "kernelspec": {
   "display_name": "Python 2",
   "language": "python",
   "name": "python2"
  },
  "language_info": {
   "codemirror_mode": {
    "name": "ipython",
    "version": 2
   },
   "file_extension": ".py",
   "mimetype": "text/x-python",
   "name": "python",
   "nbconvert_exporter": "python",
   "pygments_lexer": "ipython2",
   "version": "2.7.10"
  }
 },
 "nbformat": 4,
 "nbformat_minor": 0
}
