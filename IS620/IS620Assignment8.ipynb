{
 "cells": [
  {
   "cell_type": "code",
   "execution_count": 725,
   "metadata": {
    "collapsed": false
   },
   "outputs": [],
   "source": [
    "import nltk\n",
    "import urllib2\n",
    "import matplotlib.pyplot as plt\n",
    "from __future__ import division\n",
    "%matplotlib inline"
   ]
  },
  {
   "cell_type": "markdown",
   "metadata": {},
   "source": [
    "We will analyze the text of fairy tales by the Brothers Grimm. To get our word list, we will filter out all tokens that do not start with three letters. This will eliminate punctuation and all common words that will not shed that much light on the content of the text: definite and indefinite articles, conjunctions, prepositions."
   ]
  },
  {
   "cell_type": "code",
   "execution_count": 686,
   "metadata": {
    "collapsed": false
   },
   "outputs": [],
   "source": [
    "url = \"http://www.gutenberg.org/cache/epub/2591/pg2591.txt\"\n",
    "raw = urllib2.urlopen(url).read().decode('utf8')\n",
    "tokens = word_tokenize(raw)\n",
    "tokens = tokens[400:]\n",
    "text = nltk.Text(tokens)\n",
    "words = [w.lower() for w in text]\n",
    "words = [w for w in words if re.search('^[a-z]{4,}$', w)]"
   ]
  },
  {
   "cell_type": "markdown",
   "metadata": {},
   "source": [
    "Now we will use $\\textit{nltk}$ to get a frequency distribution of the words in the text and return the top 200. "
   ]
  },
  {
   "cell_type": "code",
   "execution_count": 687,
   "metadata": {
    "collapsed": false
   },
   "outputs": [
    {
     "data": {
      "text/plain": [
       "[(u'said', 1162),\n",
       " (u'that', 1094),\n",
       " (u'they', 837),\n",
       " (u'with', 734),\n",
       " (u'then', 653),\n",
       " (u'when', 636),\n",
       " (u'will', 574),\n",
       " (u'have', 499),\n",
       " (u'into', 480),\n",
       " (u'came', 461),\n",
       " (u'went', 442),\n",
       " (u'little', 391),\n",
       " (u'them', 377),\n",
       " (u'there', 375),\n",
       " (u'king', 355),\n",
       " (u'this', 353),\n",
       " (u'were', 344),\n",
       " (u'down', 324),\n",
       " (u'what', 293),\n",
       " (u'away', 292),\n",
       " (u'again', 282),\n",
       " (u'would', 261),\n",
       " (u'could', 260),\n",
       " (u'took', 244),\n",
       " (u'their', 241),\n",
       " (u'your', 238),\n",
       " (u'very', 223),\n",
       " (u'from', 212),\n",
       " (u'time', 200),\n",
       " (u'upon', 198),\n",
       " (u'which', 196),\n",
       " (u'about', 179),\n",
       " (u'home', 179),\n",
       " (u'must', 175),\n",
       " (u'come', 175),\n",
       " (u'before', 174),\n",
       " (u'father', 174),\n",
       " (u'should', 174),\n",
       " (u'himself', 171),\n",
       " (u'shall', 170),\n",
       " (u'thought', 166),\n",
       " (u'good', 164),\n",
       " (u'soon', 158),\n",
       " (u'cried', 153),\n",
       " (u'take', 152),\n",
       " (u'great', 152),\n",
       " (u'back', 150),\n",
       " (u'over', 147),\n",
       " (u'last', 147),\n",
       " (u'long', 147),\n",
       " (u'mother', 146),\n",
       " (u'give', 145),\n",
       " (u'been', 145),\n",
       " (u'where', 145),\n",
       " (u'once', 145),\n",
       " (u'other', 144),\n",
       " (u'after', 142),\n",
       " (u'wife', 141),\n",
       " (u'more', 141),\n",
       " (u'some', 139),\n",
       " (u'door', 132),\n",
       " (u'fell', 130),\n",
       " (u'well', 130),\n",
       " (u'asked', 128),\n",
       " (u'still', 127),\n",
       " (u'like', 125),\n",
       " (u'till', 124),\n",
       " (u'beautiful', 123),\n",
       " (u'found', 122),\n",
       " (u'however', 121),\n",
       " (u'hans', 121),\n",
       " (u'made', 120),\n",
       " (u'nothing', 118),\n",
       " (u'head', 117),\n",
       " (u'began', 117),\n",
       " (u'only', 115),\n",
       " (u'bird', 115),\n",
       " (u'answered', 114),\n",
       " (u'looked', 113),\n",
       " (u'work', 111),\n",
       " (u'heard', 111),\n",
       " (u'water', 110),\n",
       " (u'house', 108),\n",
       " (u'gave', 106),\n",
       " (u'than', 104),\n",
       " (u'princess', 102),\n",
       " (u'first', 101),\n",
       " (u'told', 100),\n",
       " (u'morning', 100),\n",
       " (u'much', 98),\n",
       " (u'night', 98),\n",
       " (u'woman', 98),\n",
       " (u'together', 97),\n",
       " (u'three', 96),\n",
       " (u'called', 96),\n",
       " (u'gretel', 95),\n",
       " (u'here', 93),\n",
       " (u'daughter', 93),\n",
       " (u'golden', 92),\n",
       " (u'brought', 91),\n",
       " (u'herself', 91),\n",
       " (u'know', 91),\n",
       " (u'never', 90),\n",
       " (u'quite', 89),\n",
       " (u'poor', 89),\n",
       " (u'gold', 89),\n",
       " (u'tree', 88),\n",
       " (u'horse', 88),\n",
       " (u'might', 86),\n",
       " (u'project', 85),\n",
       " (u'forest', 85),\n",
       " (u'next', 84),\n",
       " (u'round', 83),\n",
       " (u'done', 83),\n",
       " (u'child', 82),\n",
       " (u'through', 82),\n",
       " (u'castle', 82),\n",
       " (u'make', 81),\n",
       " (u'such', 81),\n",
       " (u'left', 80),\n",
       " (u'wood', 80),\n",
       " (u'stood', 79),\n",
       " (u'children', 78),\n",
       " (u'young', 78),\n",
       " (u'each', 77),\n",
       " (u'just', 77),\n",
       " (u'queen', 76),\n",
       " (u'find', 76),\n",
       " (u'going', 75),\n",
       " (u'hand', 74),\n",
       " (u'heart', 73),\n",
       " (u'bring', 73),\n",
       " (u'under', 72),\n",
       " (u'every', 72),\n",
       " (u'behind', 72),\n",
       " (u'another', 72),\n",
       " (u'fast', 71),\n",
       " (u'wolf', 71),\n",
       " (u'fire', 70),\n",
       " (u'while', 70),\n",
       " (u'tailor', 68),\n",
       " (u'gone', 68),\n",
       " (u'evening', 68),\n",
       " (u'laid', 65),\n",
       " (u'white', 65),\n",
       " (u'something', 65),\n",
       " (u'full', 64),\n",
       " (u'look', 64),\n",
       " (u'eyes', 63),\n",
       " (u'asleep', 63),\n",
       " (u'world', 63),\n",
       " (u'tell', 62),\n",
       " (u'cook', 62),\n",
       " (u'dwarf', 62),\n",
       " (u'prince', 62),\n",
       " (u'until', 61),\n",
       " (u'flew', 61),\n",
       " (u'life', 60),\n",
       " (u'without', 60),\n",
       " (u'sitting', 59),\n",
       " (u'girl', 59),\n",
       " (u'dead', 58),\n",
       " (u'side', 57),\n",
       " (u'many', 57),\n",
       " (u'wanted', 56),\n",
       " (u'care', 56),\n",
       " (u'knew', 56),\n",
       " (u'hair', 56),\n",
       " (u'want', 52),\n",
       " (u'bride', 52),\n",
       " (u'happened', 51),\n",
       " (u'enough', 51),\n",
       " (u'fine', 51),\n",
       " (u'thing', 50),\n",
       " (u'third', 50),\n",
       " (u'better', 50),\n",
       " (u'seven', 50),\n",
       " (u'peasant', 50),\n",
       " (u'money', 50),\n",
       " (u'whole', 50),\n",
       " (u'wished', 50),\n",
       " (u'right', 49),\n",
       " (u'longer', 49),\n",
       " (u'room', 48),\n",
       " (u'master', 48),\n",
       " (u'soldier', 48),\n",
       " (u'help', 48),\n",
       " (u'lived', 48),\n",
       " (u'leave', 47),\n",
       " (u'window', 47),\n",
       " (u'think', 47),\n",
       " (u'open', 47),\n",
       " (u'thus', 47),\n",
       " (u'second', 46),\n",
       " (u'anything', 46),\n",
       " (u'drink', 46),\n",
       " (u'seen', 45),\n",
       " (u'people', 45),\n",
       " (u'given', 45),\n",
       " (u'youth', 45)]"
      ]
     },
     "execution_count": 687,
     "metadata": {},
     "output_type": "execute_result"
    }
   ],
   "source": [
    "frequency = nltk.FreqDist(words)\n",
    "frequencyDist = frequency # save nltk.probability.FreqDist object for graph below\n",
    "frequency = frequency.most_common()\n",
    "top200 = frequency[:200]\n",
    "top200"
   ]
  },
  {
   "cell_type": "markdown",
   "metadata": {},
   "source": [
    "Taking the most common words, how many unique words represent half of the total words in the corpus?\n",
    "\n",
    "First, we need to find the total number of words in the corpus. If we take the length of $\\textit{words}$, we will get the number of words in the text."
   ]
  },
  {
   "cell_type": "code",
   "execution_count": 688,
   "metadata": {
    "collapsed": false
   },
   "outputs": [
    {
     "data": {
      "text/plain": [
       "51537"
      ]
     },
     "execution_count": 688,
     "metadata": {},
     "output_type": "execute_result"
    }
   ],
   "source": [
    "len(words)"
   ]
  },
  {
   "cell_type": "code",
   "execution_count": 689,
   "metadata": {
    "collapsed": false
   },
   "outputs": [
    {
     "data": {
      "text/plain": [
       "25768"
      ]
     },
     "execution_count": 689,
     "metadata": {},
     "output_type": "execute_result"
    }
   ],
   "source": [
    "half = len(words)/2\n",
    "half"
   ]
  },
  {
   "cell_type": "markdown",
   "metadata": {},
   "source": [
    "Likewise, the length of frequency will give us the total number of unique words in the text."
   ]
  },
  {
   "cell_type": "code",
   "execution_count": 690,
   "metadata": {
    "collapsed": false
   },
   "outputs": [
    {
     "data": {
      "text/plain": [
       "4742"
      ]
     },
     "execution_count": 690,
     "metadata": {},
     "output_type": "execute_result"
    }
   ],
   "source": [
    "len(frequency)"
   ]
  },
  {
   "cell_type": "code",
   "execution_count": 691,
   "metadata": {
    "collapsed": false
   },
   "outputs": [
    {
     "data": {
      "text/plain": [
       "146"
      ]
     },
     "execution_count": 691,
     "metadata": {},
     "output_type": "execute_result"
    }
   ],
   "source": [
    "sum = 0\n",
    "n = 0 \n",
    "for word in frequency:\n",
    "    while sum < half:\n",
    "        sum += frequency[n][1]\n",
    "        n += 1\n",
    "n"
   ]
  },
  {
   "cell_type": "markdown",
   "metadata": {},
   "source": [
    "It appears that the 146 most common words make up half the text in the corpus."
   ]
  },
  {
   "cell_type": "code",
   "execution_count": 692,
   "metadata": {
    "collapsed": false
   },
   "outputs": [
    {
     "data": {
      "text/plain": [
       "51537"
      ]
     },
     "execution_count": 692,
     "metadata": {},
     "output_type": "execute_result"
    }
   ],
   "source": [
    "len(words)"
   ]
  },
  {
   "cell_type": "code",
   "execution_count": 693,
   "metadata": {
    "collapsed": false
   },
   "outputs": [
    {
     "data": {
      "text/plain": [
       "26256"
      ]
     },
     "execution_count": 693,
     "metadata": {},
     "output_type": "execute_result"
    }
   ],
   "source": [
    "sum = 0\n",
    "n = 0\n",
    "num = 0\n",
    "for word in frequency:\n",
    "    n += 1\n",
    "    while sum < half:\n",
    "        sum += frequency[n][1]\n",
    "        num = n\n",
    "sum"
   ]
  },
  {
   "cell_type": "markdown",
   "metadata": {},
   "source": [
    "The Graph below shows the frequency distribution of the top 200 words. The shape of the distribution demonstrates an exponential decline. We move from most common to least common as we move from left to right on the x-acis. The drop-off in word usage is very sharp for the first 30 or so words and then the decline slows dramatically and stabilizes for the rest of the most common words in the corpus. "
   ]
  },
  {
   "cell_type": "code",
   "execution_count": 698,
   "metadata": {
    "collapsed": false,
    "scrolled": true
   },
   "outputs": [
    {
     "data": {
      "image/png": "[encoded data removed]",
      "text/plain": [
       "<matplotlib.figure.Figure at 0x11815b390>"
      ]
     },
     "metadata": {},
     "output_type": "display_data"
    }
   ],
   "source": [
    "plt.figure(figsize=(20,5))\n",
    "frequencyDist.plot(200)"
   ]
  },
  {
   "cell_type": "markdown",
   "metadata": {},
   "source": [
    "Now we must derive the relative frequencies of the top 200 words and dividing them by the total number of words in the corpus."
   ]
  },
  {
   "cell_type": "code",
   "execution_count": 741,
   "metadata": {
    "collapsed": false
   },
   "outputs": [],
   "source": [
    "rf = []\n",
    "for each in top200:\n",
    "    rf.append(each[1]/len(words))"
   ]
  },
  {
   "cell_type": "markdown",
   "metadata": {},
   "source": [
    "In the next plot, we compare the relative frequency of the top 200 words in this corpus with the rank of the word. Zipf's law states the the frequency of a word is inversely proportional to its rank. Here is looks like there is a similar downward trend, but our top 200 words do not demonstrate a perfect inverse proportion. I think that if we compare the frequency distribution of words in this text with others, we would find a wide variety of distributions. The frequency distribution of a text will depends on its length, subject matter, language, and vocabulary of the author (and everything that may influence that). The text we are analyzing here was at one point translated from the original German, which could have increased or decreased the frequency of particular words. "
   ]
  },
  {
   "cell_type": "code",
   "execution_count": 755,
   "metadata": {
    "collapsed": false
   },
   "outputs": [
    {
     "data": {
      "text/plain": [
       "<matplotlib.legend.Legend at 0x11829b450>"
      ]
     },
     "execution_count": 755,
     "metadata": {},
     "output_type": "execute_result"
    },
    {
     "data": {
      "image/png": "[encoded data removed]",
      "text/plain": [
       "<matplotlib.figure.Figure at 0x11890da50>"
      ]
     },
     "metadata": {},
     "output_type": "display_data"
    }
   ],
   "source": [
    "x = [i + 1 for i in range(200)] # create x-axis\n",
    "y = [1/i for i in x] # create y-axis\n",
    "fig,ax = plt.subplots(figsize=[10, 10])\n",
    "ax.plot(x, y, color='red')\n",
    "ax.plot(x, rf, color = 'black')\n",
    "ax.set_xscale('log')\n",
    "ax.set_yscale('log')\n",
    "ax.set_xlabel(\"Rank\")\n",
    "ax.set_ylabel(\"Relative Frequency\")\n",
    "ax.legend(['Zipf', 'Top 200'])"
   ]
  }
 ],
 "metadata": {
  "kernelspec": {
   "display_name": "Python 2",
   "language": "python",
   "name": "python2"
  },
  "language_info": {
   "codemirror_mode": {
    "name": "ipython",
    "version": 2
   },
   "file_extension": ".py",
   "mimetype": "text/x-python",
   "name": "python",
   "nbconvert_exporter": "python",
   "pygments_lexer": "ipython2",
   "version": "2.7.10"
  }
 },
 "nbformat": 4,
 "nbformat_minor": 0
}
