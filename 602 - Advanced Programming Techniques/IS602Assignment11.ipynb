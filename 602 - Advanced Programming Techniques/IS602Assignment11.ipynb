{
 "cells": [
  {
   "cell_type": "markdown",
   "metadata": {},
   "source": [
    "David Stern\n",
    "IS 606 Assignment 11\n",
    "Value at Risk (VaR) Analysis"
   ]
  },
  {
   "cell_type": "markdown",
   "metadata": {},
   "source": [
    "Instructions:\n",
    "\n",
    "The file (apple.2011.csv) has 3 columns: date, price, and percent change.  The information you are really interested in is the percent change.  This value is the percent change in the price from the previous date to the date on the corresponding row.\n",
    "\n",
    "Use the percent change values to create a Gaussian random number generator.  This generator will create Gaussian-distributed randoms to use as hypothetical percent changes on the day to day price of Apple stock.\n",
    "With that generator, create 20 random numbers.  With these randoms, you can find a potential price change over 20 days.\n",
    "\n",
    "Start with the price from the last row and the random numbers to determine a hypothetical price after 20 days.  To do this, take that last price, apply a percent change and get a new price.  Then take that new price, and apply the next percent change.  Do this for the 20 randoms, and get a final price.\n",
    "\n",
    "Store the final price after 20 days (you can discard the intermediate price values).\n",
    "\n",
    "Repeat steps 3-5 a very large number of times.  Something like 10000.  Each run will yield a different result.\n",
    "Take all of the stored prices (10000 or so), sort them, and find the 1% lowest percentile.  This value is the final result, and represents the VaR with 99% confidence.  This means that the price will be above this result after 20 days with a confidence level of 99%."
   ]
  },
  {
   "cell_type": "code",
   "execution_count": 63,
   "metadata": {
    "collapsed": false
   },
   "outputs": [],
   "source": [
    "import urllib\n",
    "import pandas as pd\n",
    "import numpy as np\n",
    "from pandas import Series"
   ]
  },
  {
   "cell_type": "markdown",
   "metadata": {},
   "source": [
    "Load Data:"
   ]
  },
  {
   "cell_type": "code",
   "execution_count": 64,
   "metadata": {
    "collapsed": true
   },
   "outputs": [],
   "source": [
    "appleRaw = 'https://raw.githubusercontent.com/dstern04/MSDA-Work/master/IS602/apple.2011.csv'\n",
    "appleCSV = urllib.urlopen(appleRaw)\n",
    "appleData = pd.read_csv(appleCSV)\n",
    "appleData.columns = ['date','price','percent change']"
   ]
  },
  {
   "cell_type": "markdown",
   "metadata": {},
   "source": [
    "Here we calculate the mean and standard deviation of the percentage of the daily change in stock price. The first record of the 'percent change' column does not have numerical data, so we will skip over it. The values for mu and sigma will used in our Gaussian random number generator."
   ]
  },
  {
   "cell_type": "code",
   "execution_count": 72,
   "metadata": {
    "collapsed": false
   },
   "outputs": [
    {
     "data": {
      "text/plain": [
       "(0.00095735520717131429, 0.01648761397989346)"
      ]
     },
     "execution_count": 72,
     "metadata": {},
     "output_type": "execute_result"
    }
   ],
   "source": [
    "percent = Series(appleData['percent change'][1:],dtype=float)\n",
    "mu, sigma = np.mean(percent), np.std(percent)\n",
    "mu, sigma"
   ]
  },
  {
   "cell_type": "markdown",
   "metadata": {},
   "source": [
    "Initialize vector of final price points for each simulation of price changes over 20 days:"
   ]
  },
  {
   "cell_type": "code",
   "execution_count": 149,
   "metadata": {
    "collapsed": false
   },
   "outputs": [],
   "source": [
    "finalPrice = []"
   ]
  },
  {
   "cell_type": "markdown",
   "metadata": {},
   "source": [
    "Now we run the simulation 10,000 times and store the final price points from each run:"
   ]
  },
  {
   "cell_type": "code",
   "execution_count": 150,
   "metadata": {
    "collapsed": false
   },
   "outputs": [],
   "source": [
    "for i in range(0,10000):\n",
    "    lastPrice = appleData['price'][251]\n",
    "    twentyChanges = np.random.normal(mu, sigma, 20)\n",
    "    nextTwenty = []\n",
    "    for each in twentyChanges:\n",
    "        lastPrice = lastPrice + lastPrice*each\n",
    "        nextTwenty.append(lastPrice)\n",
    "    finalPrice.append(nextTwenty[19])"
   ]
  },
  {
   "cell_type": "markdown",
   "metadata": {},
   "source": [
    "Finally, we find the 1st percentile of our final price data. We can be 99% certain that the price will not dip below this point after 20 days."
   ]
  },
  {
   "cell_type": "code",
   "execution_count": 154,
   "metadata": {
    "collapsed": false
   },
   "outputs": [
    {
     "data": {
      "text/plain": [
       "348.51139379157911"
      ]
     },
     "execution_count": 154,
     "metadata": {},
     "output_type": "execute_result"
    }
   ],
   "source": [
    "np.percentile(finalPrice,1)"
   ]
  }
 ],
 "metadata": {
  "kernelspec": {
   "display_name": "Python 2",
   "language": "python",
   "name": "python2"
  },
  "language_info": {
   "codemirror_mode": {
    "name": "ipython",
    "version": 2
   },
   "file_extension": ".py",
   "mimetype": "text/x-python",
   "name": "python",
   "nbconvert_exporter": "python",
   "pygments_lexer": "ipython2",
   "version": "2.7.10"
  }
 },
 "nbformat": 4,
 "nbformat_minor": 0
}
