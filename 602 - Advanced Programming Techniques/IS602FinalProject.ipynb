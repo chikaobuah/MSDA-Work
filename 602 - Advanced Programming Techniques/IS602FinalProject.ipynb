{
 "cells": [
  {
   "cell_type": "markdown",
   "metadata": {},
   "source": [
    "IS 602 Final Project\n",
    "\n",
    "David Stern"
   ]
  },
  {
   "cell_type": "code",
   "execution_count": 2,
   "metadata": {
    "collapsed": false
   },
   "outputs": [],
   "source": [
    "import os\n",
    "import pandas as pd\n",
    "from datetime import datetime\n",
    "from dateutil.parser import parse\n",
    "import matplotlib.pylab as plt\n",
    "%matplotlib inline\n",
    "os.chdir('/Users/davidstern/Downloads')"
   ]
  },
  {
   "cell_type": "markdown",
   "metadata": {},
   "source": [
    "In this project, I explore all Green (Boro) Taxi rides for each year of the program, 2013-2015. I accessed the data from the NYC Open Data website, as it was quickest to download them as csv files and retrieve them locally, rather than pulling the JSON data through the SODA API (the paging limits 50,000 records per pull and slowed the data access considerably). \n",
    "\n",
    "https://data.cityofnewyork.us/Transportation/2014-Green-Taxi-Trip-Data/2np7-5jsg\n",
    "https://data.cityofnewyork.us/Transportation/2015-Green-Taxi-Trip-Data/gi8d-wdg5\n",
    "https://data.cityofnewyork.us/Transportation/2013-Green-Taxi-Trip-Data/ghpb-fpea"
   ]
  },
  {
   "cell_type": "code",
   "execution_count": 3,
   "metadata": {
    "collapsed": true
   },
   "outputs": [],
   "source": [
    "trip_data_2013 = pd.read_csv('2013_Green_Taxi_Trip_Data.csv')\n",
    "trip_data_2014 = pd.read_csv('2014_Green_Taxi_Trip_Data.csv')\n",
    "trip_data_2015 = pd.read_csv('2015_Green_Taxi_Trip_Data.csv')"
   ]
  },
  {
   "cell_type": "markdown",
   "metadata": {},
   "source": [
    "Confirm all have properly loaded:"
   ]
  },
  {
   "cell_type": "code",
   "execution_count": 4,
   "metadata": {
    "collapsed": false
   },
   "outputs": [
    {
     "data": {
      "text/html": [
       "<div style=\"max-height:1000px;max-width:1500px;overflow:auto;\">\n",
       "<table border=\"1\" class=\"dataframe\">\n",
       "  <thead>\n",
       "    <tr style=\"text-align: right;\">\n",
       "      <th></th>\n",
       "      <th>pickup_datetime</th>\n",
       "      <th>dropoff_datetime</th>\n",
       "      <th>Store_and_fwd_flag</th>\n",
       "      <th>rate_code</th>\n",
       "      <th>Dropoff_latitude</th>\n",
       "      <th>Passenger_count</th>\n",
       "      <th>Trip_distance</th>\n",
       "      <th>Fare_amount</th>\n",
       "      <th>Extra</th>\n",
       "      <th>MTA_tax</th>\n",
       "      <th>Tip_amount</th>\n",
       "      <th>Tolls_amount</th>\n",
       "      <th>Ehail_fee</th>\n",
       "      <th>Total_amount</th>\n",
       "      <th>Payment_type</th>\n",
       "      <th>Trip_type</th>\n",
       "      <th>Pickup_longitude</th>\n",
       "      <th>Pickup_latitude</th>\n",
       "      <th>Dropoff_longitude</th>\n",
       "      <th>vendor_id</th>\n",
       "    </tr>\n",
       "  </thead>\n",
       "  <tbody>\n",
       "    <tr>\n",
       "      <th>0</th>\n",
       "      <td> 12/06/2013 12:11:05 PM</td>\n",
       "      <td> 12/06/2013 12:14:06 PM</td>\n",
       "      <td> N</td>\n",
       "      <td> 1</td>\n",
       "      <td> 40.811981</td>\n",
       "      <td> 1</td>\n",
       "      <td>  0.50</td>\n",
       "      <td>  4.0</td>\n",
       "      <td> 0.0</td>\n",
       "      <td> 0.5</td>\n",
       "      <td> 0</td>\n",
       "      <td> 0</td>\n",
       "      <td>NaN</td>\n",
       "      <td>  4.5</td>\n",
       "      <td> 2</td>\n",
       "      <td>NaN</td>\n",
       "      <td>-73.965065</td>\n",
       "      <td> 40.806141</td>\n",
       "      <td>-73.962234</td>\n",
       "      <td> 1</td>\n",
       "    </tr>\n",
       "    <tr>\n",
       "      <th>1</th>\n",
       "      <td> 11/23/2013 01:31:07 AM</td>\n",
       "      <td> 11/23/2013 02:36:01 AM</td>\n",
       "      <td> N</td>\n",
       "      <td> 1</td>\n",
       "      <td> 40.591175</td>\n",
       "      <td> 5</td>\n",
       "      <td> 14.16</td>\n",
       "      <td> 52.5</td>\n",
       "      <td> 0.5</td>\n",
       "      <td> 0.5</td>\n",
       "      <td> 0</td>\n",
       "      <td> 0</td>\n",
       "      <td>NaN</td>\n",
       "      <td> 53.5</td>\n",
       "      <td> 1</td>\n",
       "      <td>NaN</td>\n",
       "      <td>-73.958466</td>\n",
       "      <td> 40.719093</td>\n",
       "      <td>-73.965424</td>\n",
       "      <td> 2</td>\n",
       "    </tr>\n",
       "  </tbody>\n",
       "</table>\n",
       "</div>"
      ],
      "text/plain": [
       "          pickup_datetime        dropoff_datetime Store_and_fwd_flag  \\\n",
       "0  12/06/2013 12:11:05 PM  12/06/2013 12:14:06 PM                  N   \n",
       "1  11/23/2013 01:31:07 AM  11/23/2013 02:36:01 AM                  N   \n",
       "\n",
       "   rate_code  Dropoff_latitude  Passenger_count  Trip_distance  Fare_amount  \\\n",
       "0          1         40.811981                1           0.50          4.0   \n",
       "1          1         40.591175                5          14.16         52.5   \n",
       "\n",
       "   Extra  MTA_tax  Tip_amount  Tolls_amount  Ehail_fee  Total_amount  \\\n",
       "0    0.0      0.5           0             0        NaN           4.5   \n",
       "1    0.5      0.5           0             0        NaN          53.5   \n",
       "\n",
       "   Payment_type  Trip_type  Pickup_longitude  Pickup_latitude  \\\n",
       "0             2        NaN        -73.965065        40.806141   \n",
       "1             1        NaN        -73.958466        40.719093   \n",
       "\n",
       "   Dropoff_longitude  vendor_id  \n",
       "0         -73.962234          1  \n",
       "1         -73.965424          2  "
      ]
     },
     "execution_count": 4,
     "metadata": {},
     "output_type": "execute_result"
    }
   ],
   "source": [
    "trip_data_2013.head(2)"
   ]
  },
  {
   "cell_type": "code",
   "execution_count": 5,
   "metadata": {
    "collapsed": false
   },
   "outputs": [
    {
     "data": {
      "text/html": [
       "<div style=\"max-height:1000px;max-width:1500px;overflow:auto;\">\n",
       "<table border=\"1\" class=\"dataframe\">\n",
       "  <thead>\n",
       "    <tr style=\"text-align: right;\">\n",
       "      <th></th>\n",
       "      <th>pickup_datetime</th>\n",
       "      <th>dropoff_datetime</th>\n",
       "      <th>Store_and_fwd_flag</th>\n",
       "      <th>rate_code</th>\n",
       "      <th>Pickup_longitude</th>\n",
       "      <th>Pickup_latitude</th>\n",
       "      <th>Dropoff_longitude</th>\n",
       "      <th>Dropoff_latitude</th>\n",
       "      <th>Passenger_count</th>\n",
       "      <th>Trip_distance</th>\n",
       "      <th>Fare_amount</th>\n",
       "      <th>Extra</th>\n",
       "      <th>MTA_tax</th>\n",
       "      <th>Tip_amount</th>\n",
       "      <th>Tolls_amount</th>\n",
       "      <th>Ehail_fee</th>\n",
       "      <th>Total_amount</th>\n",
       "      <th>Payment_type</th>\n",
       "      <th>Trip_type</th>\n",
       "      <th>vendorid</th>\n",
       "    </tr>\n",
       "  </thead>\n",
       "  <tbody>\n",
       "    <tr>\n",
       "      <th>0</th>\n",
       "      <td> 01/13/0010 10:14:22 PM</td>\n",
       "      <td> 01/13/0010 10:21:30 PM</td>\n",
       "      <td> N</td>\n",
       "      <td> 1</td>\n",
       "      <td>-73.978867</td>\n",
       "      <td> 40.683895</td>\n",
       "      <td>-73.996056</td>\n",
       "      <td> 40.689190</td>\n",
       "      <td> 5</td>\n",
       "      <td> 1.07</td>\n",
       "      <td> 6</td>\n",
       "      <td> 0.5</td>\n",
       "      <td> 0.5</td>\n",
       "      <td> 0</td>\n",
       "      <td> 0</td>\n",
       "      <td>NaN</td>\n",
       "      <td> 7.0</td>\n",
       "      <td> 2</td>\n",
       "      <td> 1</td>\n",
       "      <td> 2</td>\n",
       "    </tr>\n",
       "    <tr>\n",
       "      <th>1</th>\n",
       "      <td> 01/11/0019 06:03:33 PM</td>\n",
       "      <td> 01/11/0019 06:08:55 PM</td>\n",
       "      <td> N</td>\n",
       "      <td> 1</td>\n",
       "      <td>-73.934334</td>\n",
       "      <td> 40.751289</td>\n",
       "      <td>-73.911118</td>\n",
       "      <td> 40.752995</td>\n",
       "      <td> 1</td>\n",
       "      <td> 1.30</td>\n",
       "      <td> 6</td>\n",
       "      <td> 1.0</td>\n",
       "      <td> 0.5</td>\n",
       "      <td> 0</td>\n",
       "      <td> 0</td>\n",
       "      <td>NaN</td>\n",
       "      <td> 7.5</td>\n",
       "      <td> 2</td>\n",
       "      <td> 1</td>\n",
       "      <td> 1</td>\n",
       "    </tr>\n",
       "  </tbody>\n",
       "</table>\n",
       "</div>"
      ],
      "text/plain": [
       "          pickup_datetime        dropoff_datetime Store_and_fwd_flag  \\\n",
       "0  01/13/0010 10:14:22 PM  01/13/0010 10:21:30 PM                  N   \n",
       "1  01/11/0019 06:03:33 PM  01/11/0019 06:08:55 PM                  N   \n",
       "\n",
       "   rate_code  Pickup_longitude  Pickup_latitude  Dropoff_longitude  \\\n",
       "0          1        -73.978867        40.683895         -73.996056   \n",
       "1          1        -73.934334        40.751289         -73.911118   \n",
       "\n",
       "   Dropoff_latitude  Passenger_count  Trip_distance  Fare_amount  Extra  \\\n",
       "0         40.689190                5           1.07            6    0.5   \n",
       "1         40.752995                1           1.30            6    1.0   \n",
       "\n",
       "   MTA_tax  Tip_amount  Tolls_amount  Ehail_fee  Total_amount  Payment_type  \\\n",
       "0      0.5           0             0        NaN           7.0             2   \n",
       "1      0.5           0             0        NaN           7.5             2   \n",
       "\n",
       "   Trip_type  vendorid  \n",
       "0          1         2  \n",
       "1          1         1  "
      ]
     },
     "execution_count": 5,
     "metadata": {},
     "output_type": "execute_result"
    }
   ],
   "source": [
    "trip_data_2014.head(2)"
   ]
  },
  {
   "cell_type": "code",
   "execution_count": 6,
   "metadata": {
    "collapsed": false
   },
   "outputs": [
    {
     "data": {
      "text/html": [
       "<div style=\"max-height:1000px;max-width:1500px;overflow:auto;\">\n",
       "<table border=\"1\" class=\"dataframe\">\n",
       "  <thead>\n",
       "    <tr style=\"text-align: right;\">\n",
       "      <th></th>\n",
       "      <th>pickup_datetime</th>\n",
       "      <th>dropoff_datetime</th>\n",
       "      <th>Store_and_fwd_flag</th>\n",
       "      <th>rate_code</th>\n",
       "      <th>Dropoff_latitude</th>\n",
       "      <th>Passenger_count</th>\n",
       "      <th>Trip_distance</th>\n",
       "      <th>Fare_amount</th>\n",
       "      <th>Extra</th>\n",
       "      <th>MTA_tax</th>\n",
       "      <th>...</th>\n",
       "      <th>Tolls_amount</th>\n",
       "      <th>Ehail_fee</th>\n",
       "      <th>Total_amount</th>\n",
       "      <th>Payment_type</th>\n",
       "      <th>Trip_type</th>\n",
       "      <th>Pickup_longitude</th>\n",
       "      <th>Pickup_latitude</th>\n",
       "      <th>Dropoff_longitude</th>\n",
       "      <th>vendorid</th>\n",
       "      <th>Improvement_surcharge</th>\n",
       "    </tr>\n",
       "  </thead>\n",
       "  <tbody>\n",
       "    <tr>\n",
       "      <th>0</th>\n",
       "      <td> 01/27/2015 07:30:40 PM</td>\n",
       "      <td> 01/27/2015 07:47:34 PM</td>\n",
       "      <td> N</td>\n",
       "      <td> 1</td>\n",
       "      <td> 40.842724</td>\n",
       "      <td> 1</td>\n",
       "      <td> 1.67</td>\n",
       "      <td> 11.5</td>\n",
       "      <td> 1</td>\n",
       "      <td> 0.5</td>\n",
       "      <td>...</td>\n",
       "      <td> 0</td>\n",
       "      <td>NaN</td>\n",
       "      <td> 13.3</td>\n",
       "      <td> 2</td>\n",
       "      <td> 1</td>\n",
       "      <td>-73.920158</td>\n",
       "      <td> 40.835316</td>\n",
       "      <td>-73.914696</td>\n",
       "      <td> 2</td>\n",
       "      <td> 0.3</td>\n",
       "    </tr>\n",
       "    <tr>\n",
       "      <th>1</th>\n",
       "      <td> 01/09/2015 03:45:22 PM</td>\n",
       "      <td> 01/09/2015 03:54:32 PM</td>\n",
       "      <td> N</td>\n",
       "      <td> 1</td>\n",
       "      <td> 40.679829</td>\n",
       "      <td> 3</td>\n",
       "      <td> 1.15</td>\n",
       "      <td>  7.5</td>\n",
       "      <td> 0</td>\n",
       "      <td> 0.5</td>\n",
       "      <td>...</td>\n",
       "      <td> 0</td>\n",
       "      <td>NaN</td>\n",
       "      <td>  9.8</td>\n",
       "      <td> 1</td>\n",
       "      <td> 1</td>\n",
       "      <td>-73.985672</td>\n",
       "      <td> 40.669933</td>\n",
       "      <td>-73.998367</td>\n",
       "      <td> 2</td>\n",
       "      <td> 0.3</td>\n",
       "    </tr>\n",
       "  </tbody>\n",
       "</table>\n",
       "<p>2 rows × 21 columns</p>\n",
       "</div>"
      ],
      "text/plain": [
       "          pickup_datetime        dropoff_datetime Store_and_fwd_flag  \\\n",
       "0  01/27/2015 07:30:40 PM  01/27/2015 07:47:34 PM                  N   \n",
       "1  01/09/2015 03:45:22 PM  01/09/2015 03:54:32 PM                  N   \n",
       "\n",
       "   rate_code  Dropoff_latitude  Passenger_count  Trip_distance  Fare_amount  \\\n",
       "0          1         40.842724                1           1.67         11.5   \n",
       "1          1         40.679829                3           1.15          7.5   \n",
       "\n",
       "   Extra  MTA_tax          ...            Tolls_amount  Ehail_fee  \\\n",
       "0      1      0.5          ...                       0        NaN   \n",
       "1      0      0.5          ...                       0        NaN   \n",
       "\n",
       "   Total_amount  Payment_type  Trip_type  Pickup_longitude  Pickup_latitude  \\\n",
       "0          13.3             2          1        -73.920158        40.835316   \n",
       "1           9.8             1          1        -73.985672        40.669933   \n",
       "\n",
       "   Dropoff_longitude  vendorid  Improvement_surcharge  \n",
       "0         -73.914696         2                    0.3  \n",
       "1         -73.998367         2                    0.3  \n",
       "\n",
       "[2 rows x 21 columns]"
      ]
     },
     "execution_count": 6,
     "metadata": {},
     "output_type": "execute_result"
    }
   ],
   "source": [
    "trip_data_2015.head(2)"
   ]
  },
  {
   "cell_type": "code",
   "execution_count": 7,
   "metadata": {
    "collapsed": false
   },
   "outputs": [
    {
     "name": "stdout",
     "output_type": "stream",
     "text": [
      "There were 435053 rides in 2013, 15837025 rides in 2014, and 11534883 rides in 2015.\n"
     ]
    }
   ],
   "source": [
    "print 'There were', len(trip_data_2013), 'rides in 2013,', len(trip_data_2014), 'rides in 2014, and', len(trip_data_2015), 'rides in 2015.'"
   ]
  },
  {
   "cell_type": "markdown",
   "metadata": {},
   "source": [
    "Here we will use pandas' concatenate function to merge all three data sets. The data columns are almost consistent for the three sets, but their order is not. To correct this in our combined data frame, we will perform an inner join. The name of the \"vendor id\" column in the 2013 data set must also be corrected to be the same as the other sets."
   ]
  },
  {
   "cell_type": "code",
   "execution_count": 8,
   "metadata": {
    "collapsed": true
   },
   "outputs": [],
   "source": [
    "trip_data_2013 = trip_data_2013.rename(columns={'vendor_id': 'vendorid'})\n",
    "all_trips = pd.concat([trip_data_2013, trip_data_2014, trip_data_2015], axis=0, join='inner')"
   ]
  },
  {
   "cell_type": "markdown",
   "metadata": {},
   "source": [
    "Verify that we merged the datasets correctly:"
   ]
  },
  {
   "cell_type": "code",
   "execution_count": 9,
   "metadata": {
    "collapsed": false
   },
   "outputs": [
    {
     "data": {
      "text/plain": [
       "True"
      ]
     },
     "execution_count": 9,
     "metadata": {},
     "output_type": "execute_result"
    }
   ],
   "source": [
    "len(trip_data_2013) + len(trip_data_2014) + len(trip_data_2015) == len(all_trips)"
   ]
  },
  {
   "cell_type": "code",
   "execution_count": 10,
   "metadata": {
    "collapsed": false
   },
   "outputs": [
    {
     "data": {
      "text/html": [
       "<div style=\"max-height:1000px;max-width:1500px;overflow:auto;\">\n",
       "<table border=\"1\" class=\"dataframe\">\n",
       "  <thead>\n",
       "    <tr style=\"text-align: right;\">\n",
       "      <th></th>\n",
       "      <th>pickup_datetime</th>\n",
       "      <th>dropoff_datetime</th>\n",
       "      <th>Store_and_fwd_flag</th>\n",
       "      <th>rate_code</th>\n",
       "      <th>Dropoff_latitude</th>\n",
       "      <th>Passenger_count</th>\n",
       "      <th>Trip_distance</th>\n",
       "      <th>Fare_amount</th>\n",
       "      <th>Extra</th>\n",
       "      <th>MTA_tax</th>\n",
       "      <th>Tip_amount</th>\n",
       "      <th>Tolls_amount</th>\n",
       "      <th>Ehail_fee</th>\n",
       "      <th>Total_amount</th>\n",
       "      <th>Payment_type</th>\n",
       "      <th>Trip_type</th>\n",
       "      <th>Pickup_longitude</th>\n",
       "      <th>Pickup_latitude</th>\n",
       "      <th>Dropoff_longitude</th>\n",
       "      <th>vendorid</th>\n",
       "    </tr>\n",
       "  </thead>\n",
       "  <tbody>\n",
       "    <tr>\n",
       "      <th>0</th>\n",
       "      <td> 12/06/2013 12:11:05 PM</td>\n",
       "      <td> 12/06/2013 12:14:06 PM</td>\n",
       "      <td> N</td>\n",
       "      <td> 1</td>\n",
       "      <td> 40.811981</td>\n",
       "      <td> 1</td>\n",
       "      <td>  0.50</td>\n",
       "      <td>  4.0</td>\n",
       "      <td> 0.0</td>\n",
       "      <td> 0.5</td>\n",
       "      <td> 0</td>\n",
       "      <td> 0</td>\n",
       "      <td>NaN</td>\n",
       "      <td>  4.5</td>\n",
       "      <td> 2</td>\n",
       "      <td>NaN</td>\n",
       "      <td>-73.965065</td>\n",
       "      <td> 40.806141</td>\n",
       "      <td>-73.962234</td>\n",
       "      <td> 1</td>\n",
       "    </tr>\n",
       "    <tr>\n",
       "      <th>1</th>\n",
       "      <td> 11/23/2013 01:31:07 AM</td>\n",
       "      <td> 11/23/2013 02:36:01 AM</td>\n",
       "      <td> N</td>\n",
       "      <td> 1</td>\n",
       "      <td> 40.591175</td>\n",
       "      <td> 5</td>\n",
       "      <td> 14.16</td>\n",
       "      <td> 52.5</td>\n",
       "      <td> 0.5</td>\n",
       "      <td> 0.5</td>\n",
       "      <td> 0</td>\n",
       "      <td> 0</td>\n",
       "      <td>NaN</td>\n",
       "      <td> 53.5</td>\n",
       "      <td> 1</td>\n",
       "      <td>NaN</td>\n",
       "      <td>-73.958466</td>\n",
       "      <td> 40.719093</td>\n",
       "      <td>-73.965424</td>\n",
       "      <td> 2</td>\n",
       "    </tr>\n",
       "  </tbody>\n",
       "</table>\n",
       "</div>"
      ],
      "text/plain": [
       "          pickup_datetime        dropoff_datetime Store_and_fwd_flag  \\\n",
       "0  12/06/2013 12:11:05 PM  12/06/2013 12:14:06 PM                  N   \n",
       "1  11/23/2013 01:31:07 AM  11/23/2013 02:36:01 AM                  N   \n",
       "\n",
       "   rate_code  Dropoff_latitude  Passenger_count  Trip_distance  Fare_amount  \\\n",
       "0          1         40.811981                1           0.50          4.0   \n",
       "1          1         40.591175                5          14.16         52.5   \n",
       "\n",
       "   Extra  MTA_tax  Tip_amount  Tolls_amount  Ehail_fee  Total_amount  \\\n",
       "0    0.0      0.5           0             0        NaN           4.5   \n",
       "1    0.5      0.5           0             0        NaN          53.5   \n",
       "\n",
       "   Payment_type  Trip_type  Pickup_longitude  Pickup_latitude  \\\n",
       "0             2        NaN        -73.965065        40.806141   \n",
       "1             1        NaN        -73.958466        40.719093   \n",
       "\n",
       "   Dropoff_longitude  vendorid  \n",
       "0         -73.962234         1  \n",
       "1         -73.965424         2  "
      ]
     },
     "execution_count": 10,
     "metadata": {},
     "output_type": "execute_result"
    }
   ],
   "source": [
    "all_trips.head(2)"
   ]
  },
  {
   "cell_type": "markdown",
   "metadata": {},
   "source": [
    "The average trip distance for all rides is about 3 miles:"
   ]
  },
  {
   "cell_type": "code",
   "execution_count": 11,
   "metadata": {
    "collapsed": false
   },
   "outputs": [
    {
     "data": {
      "text/plain": [
       "2.9275190036216951"
      ]
     },
     "execution_count": 11,
     "metadata": {},
     "output_type": "execute_result"
    }
   ],
   "source": [
    "all_trips['Trip_distance'].mean()"
   ]
  },
  {
   "cell_type": "markdown",
   "metadata": {},
   "source": [
    "The following calls show us that there are two vendors for the payment system and five payment types. By looking at a histogram of the payment types, we see that there are effectively only two (likely cash and credit card). Since the NYC Open Data website did not contain information on which is which, we will make a determination based on payment patterns. "
   ]
  },
  {
   "cell_type": "code",
   "execution_count": 12,
   "metadata": {
    "collapsed": false
   },
   "outputs": [
    {
     "data": {
      "text/plain": [
       "array([  1.,   2.,  nan])"
      ]
     },
     "execution_count": 12,
     "metadata": {},
     "output_type": "execute_result"
    }
   ],
   "source": [
    "all_trips['vendorid'].unique()"
   ]
  },
  {
   "cell_type": "code",
   "execution_count": 13,
   "metadata": {
    "collapsed": false
   },
   "outputs": [
    {
     "data": {
      "text/plain": [
       "array([  2.,   1.,   4.,   3.,   5.,  nan])"
      ]
     },
     "execution_count": 13,
     "metadata": {},
     "output_type": "execute_result"
    }
   ],
   "source": [
    "all_trips['Payment_type'].unique()"
   ]
  },
  {
   "cell_type": "code",
   "execution_count": 14,
   "metadata": {
    "collapsed": false,
    "scrolled": true
   },
   "outputs": [
    {
     "data": {
      "text/plain": [
       "<matplotlib.axes._subplots.AxesSubplot at 0x27e817b50>"
      ]
     },
     "execution_count": 14,
     "metadata": {},
     "output_type": "execute_result"
    },
    {
     "data": {
      "image/png": "[encoded data removed]",
      "text/plain": [
       "<matplotlib.figure.Figure at 0x27e807d90>"
      ]
     },
     "metadata": {},
     "output_type": "display_data"
    }
   ],
   "source": [
    "all_trips.Payment_type.hist()"
   ]
  },
  {
   "cell_type": "markdown",
   "metadata": {},
   "source": [
    "First we will calculate tipping percentages based on the base fare and the total fare. We will then filter the dataset by two payment types (1 and 2, or cash and credit card). The next two plots are histograms of the tip percentages by payment type. It appears that payment type 1 is credit cards, since the highest bars are at 20%, 25%, and 30% - the preset options on taxi payment screens. Payment 2 is cash, since most of the tips are zero. We can surmise that drivers do not report those tips, or they are not recorded in the data collection system. It appears that a high percentage of those customers that pay with credit card opt not to tip at all."
   ]
  },
  {
   "cell_type": "code",
   "execution_count": 15,
   "metadata": {
    "collapsed": true
   },
   "outputs": [],
   "source": [
    "all_trips['tip_pct_of_total'] = all_trips['Tip_amount']/all_trips['Total_amount']\n",
    "all_trips['tip_pct_of_base'] = all_trips['Tip_amount']/(all_trips['Fare_amount']+all_trips['MTA_tax'])"
   ]
  },
  {
   "cell_type": "code",
   "execution_count": 16,
   "metadata": {
    "collapsed": true
   },
   "outputs": [],
   "source": [
    "payment_1_trips = all_trips[all_trips.Payment_type == 1]\n",
    "payment_2_trips = all_trips[all_trips.Payment_type == 2]"
   ]
  },
  {
   "cell_type": "code",
   "execution_count": 17,
   "metadata": {
    "collapsed": false
   },
   "outputs": [
    {
     "data": {
      "text/plain": [
       "<matplotlib.axes._subplots.AxesSubplot at 0x10d572f50>"
      ]
     },
     "execution_count": 17,
     "metadata": {},
     "output_type": "execute_result"
    },
    {
     "data": {
      "image/png": "[encoded data removed]",
      "text/plain": [
       "<matplotlib.figure.Figure at 0x10d7ea410>"
      ]
     },
     "metadata": {},
     "output_type": "display_data"
    }
   ],
   "source": [
    "payment_1_trips['tip_pct_of_base'].hist(bins=35, range=[0,0.35])"
   ]
  },
  {
   "cell_type": "markdown",
   "metadata": {},
   "source": [
    "The average tip for credit card payments is about 18%."
   ]
  },
  {
   "cell_type": "code",
   "execution_count": 18,
   "metadata": {
    "collapsed": false
   },
   "outputs": [
    {
     "data": {
      "text/plain": [
       "18.27"
      ]
     },
     "execution_count": 18,
     "metadata": {},
     "output_type": "execute_result"
    }
   ],
   "source": [
    "((payment_1_trips['Tip_amount'].mean()/payment_1_trips['Fare_amount'].mean())*100).round(2)"
   ]
  },
  {
   "cell_type": "code",
   "execution_count": 19,
   "metadata": {
    "collapsed": false
   },
   "outputs": [
    {
     "data": {
      "text/plain": [
       "<matplotlib.axes._subplots.AxesSubplot at 0x10e6ebd10>"
      ]
     },
     "execution_count": 19,
     "metadata": {},
     "output_type": "execute_result"
    },
    {
     "data": {
      "image/png": "[encoded data removed]",
      "text/plain": [
       "<matplotlib.figure.Figure at 0x10d7bc290>"
      ]
     },
     "metadata": {},
     "output_type": "display_data"
    }
   ],
   "source": [
    "payment_2_trips['tip_pct_of_base'].hist(bins=35, range=[0,0.35])"
   ]
  },
  {
   "cell_type": "markdown",
   "metadata": {},
   "source": [
    "We can see here that the average tip for payment two (cash) is zero:"
   ]
  },
  {
   "cell_type": "code",
   "execution_count": 20,
   "metadata": {
    "collapsed": false
   },
   "outputs": [
    {
     "data": {
      "text/plain": [
       "0.0"
      ]
     },
     "execution_count": 20,
     "metadata": {},
     "output_type": "execute_result"
    }
   ],
   "source": [
    "payment_2_trips['Tip_amount'].mean().round(2)"
   ]
  },
  {
   "cell_type": "markdown",
   "metadata": {},
   "source": [
    "Previous analyses of the two payment systems have found that the two primary vendors calculate the automatic tip options differently. To verify this, we will filter the credit card payments by vendor and see how the mean and distribution of the payments differ"
   ]
  },
  {
   "cell_type": "code",
   "execution_count": 21,
   "metadata": {
    "collapsed": false
   },
   "outputs": [],
   "source": [
    "vendor_1_trips = payment_1_trips[payment_1_trips.vendorid == 1]\n",
    "vendor_2_trips = payment_1_trips[payment_1_trips.vendorid == 2]\n",
    "vendor_1_tip_pct = ((vendor_1_trips['Tip_amount'].mean()/vendor_1_trips['Fare_amount'].mean())*100).round(2)\n",
    "vendor_2_tip_pct = ((vendor_2_trips['Tip_amount'].mean()/vendor_2_trips['Fare_amount'].mean())*100).round(2)"
   ]
  },
  {
   "cell_type": "markdown",
   "metadata": {},
   "source": [
    "Although the tips for taxis that use the \"vendor 1\" payment software is 17 cents higher on average than those that use \"vendor 2\", the histograms of the tip percentages show nearly identical distributions, with comparable clusters around the 20%, 25%, and 30% tip options. The distributions for each of the vendors for the tip as a calculation of the total fare, rather than the base, do not seem valid, as they do not show clusters around these figures. It seems that discrepancy between the average tips for the two vendors can be attributed to the much higher percentage of individuals who do not tip in \"vendor 2\" cabs. There is no evidence based on these plots that the payment systems calculate tips differently in boro taxis."
   ]
  },
  {
   "cell_type": "code",
   "execution_count": 22,
   "metadata": {
    "collapsed": false
   },
   "outputs": [
    {
     "data": {
      "text/plain": [
       "<matplotlib.axes._subplots.AxesSubplot at 0x10dcc0350>"
      ]
     },
     "execution_count": 22,
     "metadata": {},
     "output_type": "execute_result"
    },
    {
     "data": {
      "image/png": "[encoded data removed]",
      "text/plain": [
       "<matplotlib.figure.Figure at 0x10d7bc6d0>"
      ]
     },
     "metadata": {},
     "output_type": "display_data"
    }
   ],
   "source": [
    "vendor_1_trips['tip_pct_of_base'].hist(bins=40, range=[0,0.4])"
   ]
  },
  {
   "cell_type": "code",
   "execution_count": 23,
   "metadata": {
    "collapsed": false
   },
   "outputs": [
    {
     "data": {
      "text/plain": [
       "<matplotlib.axes._subplots.AxesSubplot at 0x10ed95c50>"
      ]
     },
     "execution_count": 23,
     "metadata": {},
     "output_type": "execute_result"
    },
    {
     "data": {
      "image/png": "[encoded data removed]",
      "text/plain": [
       "<matplotlib.figure.Figure at 0x10eda89d0>"
      ]
     },
     "metadata": {},
     "output_type": "display_data"
    }
   ],
   "source": [
    "vendor_2_trips['tip_pct_of_base'].hist(bins=40, range=[0,0.4])"
   ]
  },
  {
   "cell_type": "markdown",
   "metadata": {
    "collapsed": false
   },
   "source": [
    "Now we will converty the pickup and dropoff times to datetime objects:"
   ]
  },
  {
   "cell_type": "code",
   "execution_count": 24,
   "metadata": {
    "collapsed": false
   },
   "outputs": [],
   "source": [
    "all_trips['pickup_datetime'] = pd.to_datetime(all_trips['pickup_datetime'],dayfirst=True)"
   ]
  },
  {
   "cell_type": "code",
   "execution_count": 25,
   "metadata": {
    "collapsed": false
   },
   "outputs": [],
   "source": [
    "all_trips['dropoff_datetime'] = pd.to_datetime(all_trips['dropoff_datetime'],dayfirst=True)"
   ]
  },
  {
   "cell_type": "markdown",
   "metadata": {},
   "source": [
    "This graph shows us the total number of green taxi rides by hour of the day. The results appears as expected - rides decline throughout the night and increase throughout the day. Peak taxi-usage seems to be between 6:00 - 8:00 pm. "
   ]
  },
  {
   "cell_type": "code",
   "execution_count": 26,
   "metadata": {
    "collapsed": false
   },
   "outputs": [
    {
     "data": {
      "text/plain": [
       "<matplotlib.axes._subplots.AxesSubplot at 0x10f80c750>"
      ]
     },
     "execution_count": 26,
     "metadata": {},
     "output_type": "execute_result"
    },
    {
     "data": {
      "image/png": "[encoded data removed]",
      "text/plain": [
       "<matplotlib.figure.Figure at 0x10eda8810>"
      ]
     },
     "metadata": {},
     "output_type": "display_data"
    }
   ],
   "source": [
    "all_trips['pickup_datetime'].dt.hour.value_counts(sort=False).plot(kind='bar')"
   ]
  },
  {
   "cell_type": "markdown",
   "metadata": {},
   "source": [
    "Now we will add a column that calculates the average trip speed and plot it against the time of day. The following plot shows that the average trip speed increases at a high rate in the early morning and peaks at 5 am, after which it drops precipitously until 17:00 (5 pm). To my suprise, the average trop speed increases every hour from 5 pm to 5 am. "
   ]
  },
  {
   "cell_type": "code",
   "execution_count": 27,
   "metadata": {
    "collapsed": false
   },
   "outputs": [],
   "source": [
    "all_trips['miles_per_hour'] = all_trips['Trip_distance'] /  \\\n",
    "        ((((all_trips['dropoff_datetime'] - all_trips['pickup_datetime']).dt.hours)*60 \\\n",
    "         + (all_trips['dropoff_datetime'] - all_trips['pickup_datetime']).dt.minutes + 1)/60) \n",
    "            # add 1 minute for \"0\" length trips to avoid inf values of mph"
   ]
  },
  {
   "cell_type": "code",
   "execution_count": null,
   "metadata": {
    "collapsed": false
   },
   "outputs": [],
   "source": [
    "all_trips['hour'] = all_trips['pickup_datetime'].dt.hour\n",
    "all_trips['price_per_mile'] = all_trips['Total_amount']/all_trips['Trip_distance']"
   ]
  },
  {
   "cell_type": "code",
   "execution_count": 38,
   "metadata": {
    "collapsed": false
   },
   "outputs": [
    {
     "data": {
      "text/plain": [
       "<matplotlib.axes._subplots.AxesSubplot at 0x10dfa1e50>"
      ]
     },
     "execution_count": 38,
     "metadata": {},
     "output_type": "execute_result"
    },
    {
     "data": {
      "image/png": "[encoded data removed]",
      "text/plain": [
       "<matplotlib.figure.Figure at 0x60dd089d0>"
      ]
     },
     "metadata": {},
     "output_type": "display_data"
    }
   ],
   "source": [
    "all_trips.groupby(['hour'])['miles_per_hour'].mean().plot()"
   ]
  },
  {
   "cell_type": "markdown",
   "metadata": {},
   "source": [
    "Now we will do the same for average trip price by time of day, to see if passengers if the amount paid to travel increases depending on when they hail a taxi. To do so, we need to clauclate the average trip speed and also to filter out data that will skew our calculations (all fares or trips listed as 0). The following plot shows us the average price per mile over the course of a typical day. It appears that the amount a passenger pays per mile traveled is highest at midnight, climbs slowly until about 16:00 (4 PM) and then drops every hour until midnight."
   ]
  },
  {
   "cell_type": "code",
   "execution_count": 35,
   "metadata": {
    "collapsed": true
   },
   "outputs": [],
   "source": [
    "sub_trips = all_trips[(all_trips.Total_amount != 0) & (all_trips.Trip_distance != 0)]"
   ]
  },
  {
   "cell_type": "code",
   "execution_count": 36,
   "metadata": {
    "collapsed": false
   },
   "outputs": [
    {
     "data": {
      "text/plain": [
       "<matplotlib.axes._subplots.AxesSubplot at 0x10e287a90>"
      ]
     },
     "execution_count": 36,
     "metadata": {},
     "output_type": "execute_result"
    },
    {
     "data": {
      "image/png": "[encoded data removed]",
      "text/plain": [
       "<matplotlib.figure.Figure at 0x10f78efd0>"
      ]
     },
     "metadata": {},
     "output_type": "display_data"
    }
   ],
   "source": [
    "sub_trips.groupby(['hour'])['price_per_mile'].mean().plot()"
   ]
  },
  {
   "cell_type": "code",
   "execution_count": null,
   "metadata": {
    "collapsed": false
   },
   "outputs": [],
   "source": []
  },
  {
   "cell_type": "code",
   "execution_count": null,
   "metadata": {
    "collapsed": false
   },
   "outputs": [],
   "source": []
  },
  {
   "cell_type": "code",
   "execution_count": null,
   "metadata": {
    "collapsed": false
   },
   "outputs": [],
   "source": []
  }
 ],
 "metadata": {
  "kernelspec": {
   "display_name": "Python 2",
   "language": "python",
   "name": "python2"
  },
  "language_info": {
   "codemirror_mode": {
    "name": "ipython",
    "version": 2
   },
   "file_extension": ".py",
   "mimetype": "text/x-python",
   "name": "python",
   "nbconvert_exporter": "python",
   "pygments_lexer": "ipython2",
   "version": "2.7.10"
  }
 },
 "nbformat": 4,
 "nbformat_minor": 0
}
