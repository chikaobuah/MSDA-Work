{
 "cells": [
  {
   "cell_type": "markdown",
   "metadata": {},
   "source": [
    "In this exercise, we will perform a Monte Carlo simulation for a value at risk analysis (VaR) - specifically, the 99% VaR for Apple stock after 20 days. We will time the output and speed of the operation and then run it in parallel to compare the performance."
   ]
  },
  {
   "cell_type": "code",
   "execution_count": 67,
   "metadata": {
    "collapsed": false
   },
   "outputs": [],
   "source": [
    "from IPython import parallel\n",
    "import urllib\n",
    "import pandas as pd\n",
    "import numpy as np\n",
    "from pandas import Series\n",
    "appleRaw = 'https://raw.githubusercontent.com/dstern04/MSDA-Work/master/IS602/apple.2011.csv'\n",
    "appleCSV = urllib.urlopen(appleRaw)\n",
    "appleData = pd.read_csv(appleCSV)\n",
    "appleData.columns = ['date','price','percent change']\n",
    "percent = Series(appleData['percent change'][1:],dtype=float)\n",
    "mu, sigma = np.mean(percent), np.std(percent)\n",
    "finalPrice = []"
   ]
  },
  {
   "cell_type": "code",
   "execution_count": 68,
   "metadata": {
    "collapsed": false
   },
   "outputs": [],
   "source": [
    "def price_floor_99(n):\n",
    "    for i in range(0,n):\n",
    "        lastPrice = appleData['price'][251]\n",
    "        twentyChanges = np.random.normal(mu, sigma, 20)\n",
    "        nextTwenty = []\n",
    "        for each in twentyChanges:\n",
    "            lastPrice = lastPrice + lastPrice*each\n",
    "            nextTwenty.append(lastPrice)\n",
    "        finalPrice.append(nextTwenty[19])\n",
    "    return np.percentile(finalPrice,1)"
   ]
  },
  {
   "cell_type": "code",
   "execution_count": 69,
   "metadata": {
    "collapsed": false
   },
   "outputs": [
    {
     "data": {
      "text/plain": [
       "348.22629521954127"
      ]
     },
     "execution_count": 69,
     "metadata": {},
     "output_type": "execute_result"
    }
   ],
   "source": [
    "price_floor_99(10000)"
   ]
  },
  {
   "cell_type": "code",
   "execution_count": 70,
   "metadata": {
    "collapsed": false
   },
   "outputs": [
    {
     "name": "stdout",
     "output_type": "stream",
     "text": [
      "1 loops, best of 3: 461 ms per loop\n"
     ]
    }
   ],
   "source": [
    "%timeit price_floor_99(10000)"
   ]
  },
  {
   "cell_type": "markdown",
   "metadata": {},
   "source": [
    "Before running the next function, I started 4 parallel clusters by typing the following in the terminal: \"ipcluster start -n 4\". The following command will confirm that the 4 clusters are running."
   ]
  },
  {
   "cell_type": "code",
   "execution_count": 75,
   "metadata": {
    "collapsed": false
   },
   "outputs": [
    {
     "data": {
      "text/plain": [
       "4"
      ]
     },
     "execution_count": 75,
     "metadata": {},
     "output_type": "execute_result"
    }
   ],
   "source": [
    "len(clients.ids)"
   ]
  },
  {
   "cell_type": "code",
   "execution_count": 72,
   "metadata": {
    "collapsed": true
   },
   "outputs": [],
   "source": [
    "def price_floor_99_parallel(n):\n",
    "    clients = parallel.Client()\n",
    "    clients.block = True\n",
    "    dview = clients.direct_view()\n",
    "    results = dview.apply(price_floor_99, n/len(clients.ids))\n",
    "    return np.mean(results)"
   ]
  },
  {
   "cell_type": "code",
   "execution_count": 73,
   "metadata": {
    "collapsed": false
   },
   "outputs": [
    {
     "data": {
      "text/plain": [
       "346.78009812275434"
      ]
     },
     "execution_count": 73,
     "metadata": {},
     "output_type": "execute_result"
    }
   ],
   "source": [
    "price_floor_99_parallel(10000)"
   ]
  },
  {
   "cell_type": "code",
   "execution_count": 74,
   "metadata": {
    "collapsed": false
   },
   "outputs": [
    {
     "name": "stdout",
     "output_type": "stream",
     "text": [
      "1 loops, best of 3: 264 ms per loop\n"
     ]
    }
   ],
   "source": [
    "%timeit price_floor_99_parallel(10000)"
   ]
  },
  {
   "cell_type": "markdown",
   "metadata": {},
   "source": [
    "Our results end up being very close, though the parallel computing approach takes about half the time."
   ]
  }
 ],
 "metadata": {
  "kernelspec": {
   "display_name": "Python 2",
   "language": "python",
   "name": "python2"
  },
  "language_info": {
   "codemirror_mode": {
    "name": "ipython",
    "version": 2
   },
   "file_extension": ".py",
   "mimetype": "text/x-python",
   "name": "python",
   "nbconvert_exporter": "python",
   "pygments_lexer": "ipython2",
   "version": "2.7.10"
  }
 },
 "nbformat": 4,
 "nbformat_minor": 0
}
