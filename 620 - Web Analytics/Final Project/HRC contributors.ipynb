{
 "cells": [
  {
   "cell_type": "markdown",
   "metadata": {},
   "source": [
    "# IS 620 Final Project\n",
    "David Stern\n"
   ]
  },
  {
   "cell_type": "markdown",
   "metadata": {},
   "source": [
    "In this project, I examine 2016 election data based on current filings with the Federal Election Commission (FEC). This FEC provides data on contributions to candidates for the House, Senate, and Presidential races on its website here: http://www.fec.gov/finance/disclosure/ftpdet.shtml. In the graphs below, we will explore only the data on contributions to candidates from committees, which are broadly defined to include, “federal political action committees and party committees, campaign committees for presidential, house and senate candidates, as\n",
    "well as groups or organizations who are spending money for or against candidates for federal office.” The FEC provides this data in structure txt files, one each for the contributions (edges) and the committees and candidates (nodes). \n",
    "\n",
    "The following are data dictionaries provided by the FEC to help identify which data is important to our analysis: \n",
    "\n",
    "Committees Dictionary: http://www.fec.gov/finance/disclosure/metadata/DataDictionaryCommitteeMaster.shtml"
   ]
  },
  {
   "cell_type": "markdown",
   "metadata": {},
   "source": [
    "Candidates Dictionary: http://www.fec.gov/finance/disclosure/metadata/DataDictionaryCandidateMaster.shtml "
   ]
  },
  {
   "cell_type": "markdown",
   "metadata": {},
   "source": [
    "Contributions Dictionary: http://www.fec.gov/finance/disclosure/metadata/DataDictionaryContributionstoCandidates.shtml\n",
    "\n",
    "(Downloaded on December 9, 2015)"
   ]
  },
  {
   "cell_type": "code",
   "execution_count": 3,
   "metadata": {
    "collapsed": false
   },
   "outputs": [],
   "source": [
    "import math\n",
    "import csv\n",
    "import urllib2\n",
    "import pandas as pd\n",
    "import networkx as nx\n",
    "from networkx.algorithms import bipartite as bi\n",
    "import matplotlib.pylab as plt\n",
    "%matplotlib inline"
   ]
  },
  {
   "cell_type": "markdown",
   "metadata": {},
   "source": [
    "First we will load the candidate and committe nodes from the two text files. These files were downloaded from the FEC website and uploaded to my Github repo on December 9. We first drop the columns that are not of interest (e.g. the postal address for the candidates' campaign offices) and then replace the abbreviations in the \"seat status\" and \"office\" with the full name for each."
   ]
  },
  {
   "cell_type": "code",
   "execution_count": 4,
   "metadata": {
    "collapsed": false
   },
   "outputs": [
    {
     "data": {
      "text/html": [
       "<div style=\"max-height:1000px;max-width:1500px;overflow:auto;\">\n",
       "<table border=\"1\" class=\"dataframe\">\n",
       "  <thead>\n",
       "    <tr style=\"text-align: right;\">\n",
       "      <th></th>\n",
       "      <th>candidate_id</th>\n",
       "      <th>candidate_name</th>\n",
       "      <th>party</th>\n",
       "      <th>candidate_elected</th>\n",
       "      <th>state</th>\n",
       "      <th>office</th>\n",
       "      <th>district</th>\n",
       "      <th>seat_status</th>\n",
       "      <th>principal_committee</th>\n",
       "    </tr>\n",
       "  </thead>\n",
       "  <tbody>\n",
       "    <tr>\n",
       "      <th>0</th>\n",
       "      <td> H0AK00097</td>\n",
       "      <td>              COX, JOHN R.</td>\n",
       "      <td> REP</td>\n",
       "      <td> 2014</td>\n",
       "      <td> AK</td>\n",
       "      <td> House</td>\n",
       "      <td> 0</td>\n",
       "      <td> Challenger</td>\n",
       "      <td> C00525261</td>\n",
       "    </tr>\n",
       "    <tr>\n",
       "      <th>1</th>\n",
       "      <td> H0AL02087</td>\n",
       "      <td>              ROBY, MARTHA</td>\n",
       "      <td> REP</td>\n",
       "      <td> 2016</td>\n",
       "      <td> AL</td>\n",
       "      <td> House</td>\n",
       "      <td> 2</td>\n",
       "      <td>  Incumbent</td>\n",
       "      <td> C00462143</td>\n",
       "    </tr>\n",
       "    <tr>\n",
       "      <th>2</th>\n",
       "      <td> H0AL02095</td>\n",
       "      <td>         JOHN, ROBERT E JR</td>\n",
       "      <td> IND</td>\n",
       "      <td> 2016</td>\n",
       "      <td> AL</td>\n",
       "      <td> House</td>\n",
       "      <td> 2</td>\n",
       "      <td> Challenger</td>\n",
       "      <td>       NaN</td>\n",
       "    </tr>\n",
       "    <tr>\n",
       "      <th>3</th>\n",
       "      <td> H0AL05049</td>\n",
       "      <td> CRAMER, ROBERT E \"BUD\" JR</td>\n",
       "      <td> DEM</td>\n",
       "      <td> 2008</td>\n",
       "      <td> AL</td>\n",
       "      <td> House</td>\n",
       "      <td> 5</td>\n",
       "      <td> Challenger</td>\n",
       "      <td> C00239038</td>\n",
       "    </tr>\n",
       "    <tr>\n",
       "      <th>4</th>\n",
       "      <td> H0AL05163</td>\n",
       "      <td>                BROOKS, MO</td>\n",
       "      <td> REP</td>\n",
       "      <td> 2016</td>\n",
       "      <td> AL</td>\n",
       "      <td> House</td>\n",
       "      <td> 5</td>\n",
       "      <td>  Incumbent</td>\n",
       "      <td> C00464149</td>\n",
       "    </tr>\n",
       "  </tbody>\n",
       "</table>\n",
       "</div>"
      ],
      "text/plain": [
       "  candidate_id             candidate_name party  candidate_elected state  \\\n",
       "0    H0AK00097               COX, JOHN R.   REP               2014    AK   \n",
       "1    H0AL02087               ROBY, MARTHA   REP               2016    AL   \n",
       "2    H0AL02095          JOHN, ROBERT E JR   IND               2016    AL   \n",
       "3    H0AL05049  CRAMER, ROBERT E \"BUD\" JR   DEM               2008    AL   \n",
       "4    H0AL05163                 BROOKS, MO   REP               2016    AL   \n",
       "\n",
       "  office  district seat_status principal_committee  \n",
       "0  House         0  Challenger           C00525261  \n",
       "1  House         2   Incumbent           C00462143  \n",
       "2  House         2  Challenger                 NaN  \n",
       "3  House         5  Challenger           C00239038  \n",
       "4  House         5   Incumbent           C00464149  "
      ]
     },
     "execution_count": 4,
     "metadata": {},
     "output_type": "execute_result"
    }
   ],
   "source": [
    "candidate_url = 'https://raw.githubusercontent.com/dstern04/MSDA-Work/master/620%20-%20Web%20Analytics/Final%20Project/cn-16.txt'\n",
    "candidate_response = urllib2.urlopen(candidate_url)\n",
    "candidates = pd.read_csv(candidate_response,sep='|',header=None)\n",
    "candidates = candidates.drop(candidates.columns[[8,10,11,12,13,14]], axis=1)\n",
    "candidates.columns = ['candidate_id','candidate_name','party',\n",
    "                      'candidate_elected','state','office','district',\n",
    "                      'seat_status','principal_committee']\n",
    "candidates['seat_status'] = candidates['seat_status'].replace(\n",
    "    {'C': 'Challenger','I':'Incumbent','O':'Open Seat'},regex=True)\n",
    "candidates['office'] = candidates['office'].replace(\n",
    "    {'H': 'House','S':'Senate','P':'President'},regex=True)\n",
    "candidates.head(5)"
   ]
  },
  {
   "cell_type": "markdown",
   "metadata": {},
   "source": [
    "Next, we do the same for the committee nodes. We excise unwanted and poorly reported data and then replace the abbreviations."
   ]
  },
  {
   "cell_type": "code",
   "execution_count": 5,
   "metadata": {
    "collapsed": false
   },
   "outputs": [
    {
     "data": {
      "text/html": [
       "<div style=\"max-height:1000px;max-width:1500px;overflow:auto;\">\n",
       "<table border=\"1\" class=\"dataframe\">\n",
       "  <thead>\n",
       "    <tr style=\"text-align: right;\">\n",
       "      <th></th>\n",
       "      <th>committee_id</th>\n",
       "      <th>committee_name</th>\n",
       "      <th>committee_designation</th>\n",
       "      <th>committee_type</th>\n",
       "      <th>interest_group_category</th>\n",
       "    </tr>\n",
       "  </thead>\n",
       "  <tbody>\n",
       "    <tr>\n",
       "      <th>0</th>\n",
       "      <td> C00000059</td>\n",
       "      <td>                                HALLMARK CARDS PAC</td>\n",
       "      <td> unauthorized</td>\n",
       "      <td> Q</td>\n",
       "      <td>             corporation</td>\n",
       "    </tr>\n",
       "    <tr>\n",
       "      <th>1</th>\n",
       "      <td> C00000422</td>\n",
       "      <td> AMERICAN MEDICAL ASSOCIATION POLITICAL ACTION ...</td>\n",
       "      <td> lobbyist pac</td>\n",
       "      <td> Q</td>\n",
       "      <td> membership organization</td>\n",
       "    </tr>\n",
       "    <tr>\n",
       "      <th>2</th>\n",
       "      <td> C00000489</td>\n",
       "      <td>              D R I V E POLITICAL FUND CHAPTER 886</td>\n",
       "      <td> unauthorized</td>\n",
       "      <td> N</td>\n",
       "      <td>      labor organization</td>\n",
       "    </tr>\n",
       "    <tr>\n",
       "      <th>3</th>\n",
       "      <td> C00000547</td>\n",
       "      <td> KANSAS MEDICAL SOCIETY POLITICAL ACTION COMMITTEE</td>\n",
       "      <td> unauthorized</td>\n",
       "      <td> Q</td>\n",
       "      <td>       trade association</td>\n",
       "    </tr>\n",
       "    <tr>\n",
       "      <th>4</th>\n",
       "      <td> C00000638</td>\n",
       "      <td> INDIANA STATE MEDICAL ASSOCIATION POLITICAL AC...</td>\n",
       "      <td> unauthorized</td>\n",
       "      <td> Q</td>\n",
       "      <td> membership organization</td>\n",
       "    </tr>\n",
       "  </tbody>\n",
       "</table>\n",
       "</div>"
      ],
      "text/plain": [
       "  committee_id                                     committee_name  \\\n",
       "0    C00000059                                 HALLMARK CARDS PAC   \n",
       "1    C00000422  AMERICAN MEDICAL ASSOCIATION POLITICAL ACTION ...   \n",
       "2    C00000489               D R I V E POLITICAL FUND CHAPTER 886   \n",
       "3    C00000547  KANSAS MEDICAL SOCIETY POLITICAL ACTION COMMITTEE   \n",
       "4    C00000638  INDIANA STATE MEDICAL ASSOCIATION POLITICAL AC...   \n",
       "\n",
       "  committee_designation committee_type  interest_group_category  \n",
       "0          unauthorized              Q              corporation  \n",
       "1          lobbyist pac              Q  membership organization  \n",
       "2          unauthorized              N       labor organization  \n",
       "3          unauthorized              Q        trade association  \n",
       "4          unauthorized              Q  membership organization  "
      ]
     },
     "execution_count": 5,
     "metadata": {},
     "output_type": "execute_result"
    }
   ],
   "source": [
    "committee_url = 'https://raw.githubusercontent.com/dstern04/MSDA-Work/master/620%20-%20Web%20Analytics/Final%20Project/cm-16.txt'\n",
    "committee_response = urllib2.urlopen(committee_url)\n",
    "committees = pd.read_csv(committee_response,sep='|',header=None)\n",
    "committees = committees.drop(committees.columns[[2,3,4,5,6,7,10,11,13,14]], axis=1) \n",
    "committees.columns = ['committee_id','committee_name','committee_designation',\n",
    "                      'committee_type','interest_group_category']\n",
    "\n",
    "committees['committee_designation'] = committees['committee_designation'].replace(\n",
    "    {'A': 'authorized by candidate','B':'lobbyist pac','D':'leadership pac',\n",
    "     'J':'joint fundraiser','P':'principal campaign committee','U':'unauthorized'},regex=True)\n",
    "committees['interest_group_category'] = committees['interest_group_category'].replace(\n",
    "    {'C': 'corporation','L':'labor organization','M':'membership organization',\n",
    "     'T':'trade association','V':'cooperative','W':'corp. w/o capital stock'},regex=True)\n",
    "committees.head(5)"
   ]
  },
  {
   "cell_type": "markdown",
   "metadata": {},
   "source": [
    "Load Edges:"
   ]
  },
  {
   "cell_type": "markdown",
   "metadata": {},
   "source": [
    "Now we load the edge data from the contributions from committees file. Since this represents edges, we excise every column except for the unique keys for candidates and committees, as well as the entity type and the amount of the contribution."
   ]
  },
  {
   "cell_type": "code",
   "execution_count": 6,
   "metadata": {
    "collapsed": false
   },
   "outputs": [
    {
     "ename": "IndexError",
     "evalue": "index 7 is out of bounds for size 7",
     "output_type": "error",
     "traceback": [
      "\u001b[0;31m---------------------------------------------------------------------------\u001b[0m",
      "\u001b[0;31mIndexError\u001b[0m                                Traceback (most recent call last)",
      "\u001b[0;32m<ipython-input-6-c3cd91cda7b3>\u001b[0m in \u001b[0;36m<module>\u001b[0;34m()\u001b[0m\n\u001b[1;32m      2\u001b[0m \u001b[0medge_response\u001b[0m \u001b[0;34m=\u001b[0m \u001b[0murllib2\u001b[0m\u001b[0;34m.\u001b[0m\u001b[0murlopen\u001b[0m\u001b[0;34m(\u001b[0m\u001b[0medge_url\u001b[0m\u001b[0;34m)\u001b[0m\u001b[0;34m\u001b[0m\u001b[0m\n\u001b[1;32m      3\u001b[0m \u001b[0mlinks\u001b[0m \u001b[0;34m=\u001b[0m \u001b[0mpd\u001b[0m\u001b[0;34m.\u001b[0m\u001b[0mread_csv\u001b[0m\u001b[0;34m(\u001b[0m\u001b[0medge_response\u001b[0m\u001b[0;34m,\u001b[0m\u001b[0msep\u001b[0m\u001b[0;34m=\u001b[0m\u001b[0;34m'|'\u001b[0m\u001b[0;34m,\u001b[0m\u001b[0mheader\u001b[0m\u001b[0;34m=\u001b[0m\u001b[0mNone\u001b[0m\u001b[0;34m)\u001b[0m\u001b[0;34m\u001b[0m\u001b[0m\n\u001b[0;32m----> 4\u001b[0;31m \u001b[0mlinks\u001b[0m \u001b[0;34m=\u001b[0m \u001b[0mlinks\u001b[0m\u001b[0;34m.\u001b[0m\u001b[0mdrop\u001b[0m\u001b[0;34m(\u001b[0m\u001b[0mlinks\u001b[0m\u001b[0;34m.\u001b[0m\u001b[0mcolumns\u001b[0m\u001b[0;34m[\u001b[0m\u001b[0;34m[\u001b[0m\u001b[0;36m1\u001b[0m\u001b[0;34m,\u001b[0m\u001b[0;36m2\u001b[0m\u001b[0;34m,\u001b[0m\u001b[0;36m3\u001b[0m\u001b[0;34m,\u001b[0m\u001b[0;36m4\u001b[0m\u001b[0;34m,\u001b[0m\u001b[0;36m5\u001b[0m\u001b[0;34m,\u001b[0m\u001b[0;36m7\u001b[0m\u001b[0;34m,\u001b[0m\u001b[0;36m8\u001b[0m\u001b[0;34m,\u001b[0m\u001b[0;36m9\u001b[0m\u001b[0;34m,\u001b[0m\u001b[0;36m10\u001b[0m\u001b[0;34m,\u001b[0m\u001b[0;36m11\u001b[0m\u001b[0;34m,\u001b[0m\u001b[0;36m12\u001b[0m\u001b[0;34m,\u001b[0m\u001b[0;36m13\u001b[0m\u001b[0;34m,\u001b[0m\u001b[0;36m15\u001b[0m\u001b[0;34m,\u001b[0m\u001b[0;36m17\u001b[0m\u001b[0;34m,\u001b[0m\u001b[0;36m18\u001b[0m\u001b[0;34m,\u001b[0m\u001b[0;36m19\u001b[0m\u001b[0;34m,\u001b[0m\u001b[0;36m20\u001b[0m\u001b[0;34m,\u001b[0m\u001b[0;36m21\u001b[0m\u001b[0;34m]\u001b[0m\u001b[0;34m]\u001b[0m\u001b[0;34m,\u001b[0m \u001b[0maxis\u001b[0m\u001b[0;34m=\u001b[0m\u001b[0;36m1\u001b[0m\u001b[0;34m)\u001b[0m\u001b[0;34m\u001b[0m\u001b[0m\n\u001b[0m\u001b[1;32m      5\u001b[0m \u001b[0mlinks\u001b[0m\u001b[0;34m.\u001b[0m\u001b[0mcolumns\u001b[0m \u001b[0;34m=\u001b[0m \u001b[0;34m[\u001b[0m\u001b[0;34m'committee_id'\u001b[0m\u001b[0;34m,\u001b[0m\u001b[0;34m'entity_type'\u001b[0m\u001b[0;34m,\u001b[0m\u001b[0;34m'amount'\u001b[0m\u001b[0;34m,\u001b[0m\u001b[0;34m'candidate_id'\u001b[0m\u001b[0;34m]\u001b[0m\u001b[0;34m\u001b[0m\u001b[0m\n\u001b[1;32m      6\u001b[0m \u001b[0mlinks\u001b[0m\u001b[0;34m.\u001b[0m\u001b[0mhead\u001b[0m\u001b[0;34m(\u001b[0m\u001b[0;36m5\u001b[0m\u001b[0;34m)\u001b[0m\u001b[0;34m\u001b[0m\u001b[0m\n",
      "\u001b[0;32m/Users/davidstern/Library/Enthought/Canopy_64bit/User/lib/python2.7/site-packages/pandas/core/index.pyc\u001b[0m in \u001b[0;36m__getitem__\u001b[0;34m(self, key)\u001b[0m\n\u001b[1;32m    924\u001b[0m \u001b[0;34m\u001b[0m\u001b[0m\n\u001b[1;32m    925\u001b[0m         \u001b[0mkey\u001b[0m \u001b[0;34m=\u001b[0m \u001b[0m_values_from_object\u001b[0m\u001b[0;34m(\u001b[0m\u001b[0mkey\u001b[0m\u001b[0;34m)\u001b[0m\u001b[0;34m\u001b[0m\u001b[0m\n\u001b[0;32m--> 926\u001b[0;31m         \u001b[0mresult\u001b[0m \u001b[0;34m=\u001b[0m \u001b[0mgetitem\u001b[0m\u001b[0;34m(\u001b[0m\u001b[0mkey\u001b[0m\u001b[0;34m)\u001b[0m\u001b[0;34m\u001b[0m\u001b[0m\n\u001b[0m\u001b[1;32m    927\u001b[0m         \u001b[0;32mif\u001b[0m \u001b[0;32mnot\u001b[0m \u001b[0mnp\u001b[0m\u001b[0;34m.\u001b[0m\u001b[0misscalar\u001b[0m\u001b[0;34m(\u001b[0m\u001b[0mresult\u001b[0m\u001b[0;34m)\u001b[0m\u001b[0;34m:\u001b[0m\u001b[0;34m\u001b[0m\u001b[0m\n\u001b[1;32m    928\u001b[0m             \u001b[0;32mreturn\u001b[0m \u001b[0mpromote\u001b[0m\u001b[0;34m(\u001b[0m\u001b[0mresult\u001b[0m\u001b[0;34m)\u001b[0m\u001b[0;34m\u001b[0m\u001b[0m\n",
      "\u001b[0;31mIndexError\u001b[0m: index 7 is out of bounds for size 7"
     ]
    }
   ],
   "source": [
    "edge_url = 'https://raw.githubusercontent.com/dstern04/MSDA-Work/master/620%20-%20Web%20Analytics/Final%20Project/ccl-16.txt'\n",
    "edge_response = urllib2.urlopen(edge_url)\n",
    "links = pd.read_csv(edge_response,sep='|',header=None)\n",
    "links = links.drop(links.columns[[1,2,3,4,5,7,8,9,10,11,12,13,15,17,18,19,20,21]], axis=1) \n",
    "links.columns = ['committee_id','entity_type','amount','candidate_id']\n",
    "links.head(5)"
   ]
  },
  {
   "cell_type": "markdown",
   "metadata": {},
   "source": [
    "Finally, we use SQL-like merges to combine these three dataframes into one working dataframe that has all information for each contribution, including the candidate and committee names, which will make our graphed networks more readable."
   ]
  },
  {
   "cell_type": "code",
   "execution_count": null,
   "metadata": {
    "collapsed": false
   },
   "outputs": [],
   "source": [
    "combined = pd.merge(links, candidates, on='candidate_id', how ='inner')\n",
    "combined = pd.merge(combined, committees, on='committee_id', how ='inner')\n",
    "combined.head(2)"
   ]
  },
  {
   "cell_type": "markdown",
   "metadata": {},
   "source": [
    "From here, we can create graph objects from all of the edges in the 'combined' dataframe. For these, I modified the code in Chapter 5 in \"Social Network Analysis for Startups\" to create lists of candidates and committees and then project a bipartite graph on either of the nodes in order to visualize an affiliation network."
   ]
  },
  {
   "cell_type": "code",
   "execution_count": null,
   "metadata": {
    "collapsed": false
   },
   "outputs": [],
   "source": [
    "G = nx.Graph()\n",
    "allComs = []\n",
    "allPols = []\n",
    "for index, row in combined.T.iteritems():\n",
    "    if row['candidate_name'] not in allPols:\n",
    "        allPols.append(row['candidate_name'])\n",
    "    if row['committee_name'] not in allComs:\n",
    "        allComs.append(row['committee_name'])\n",
    "    G.add_edge(row['candidate_name'],row['committee_name']) # weight=int(row['amount'])"
   ]
  },
  {
   "cell_type": "code",
   "execution_count": null,
   "metadata": {
    "collapsed": false
   },
   "outputs": [],
   "source": [
    "def trim_edges(g, weight=1): \n",
    "    g2=nx.Graph()\n",
    "    for f, to, edata in g.edges(data=True): \n",
    "        if edata['weight'] > weight:\n",
    "            g2.add_edge(f,to,edata)\n",
    "    return g2"
   ]
  },
  {
   "cell_type": "markdown",
   "metadata": {},
   "source": [
    "This trim_edges function uses the island method to narrow the network by cluster size. For each of the graphs below, we can use the trim_edges function in order to discard edge relationships under a certain weight. Viewing a histogram of the weights helps us determine which weight to choose to discard the less consequential edge relatonships. We will generally discard 80%, setting the cut-off at the two right-most bins."
   ]
  },
  {
   "cell_type": "code",
   "execution_count": null,
   "metadata": {
    "collapsed": false
   },
   "outputs": [],
   "source": [
    "pacnet=bi.weighted_projected_graph(G, allComs, ratio=False)\n",
    "weights=[math.log(edata['weight']) for f,t,edata in pacnet.edges(data=True)]\n",
    "plt.hist(weights)"
   ]
  },
  {
   "cell_type": "markdown",
   "metadata": {},
   "source": [
    "This graph below shows us the most connected committees. There seems to be a high-degree of embeddedness between defense contractors and a high-degree of betweenness-centrality for the National Association of Realtors PAC."
   ]
  },
  {
   "cell_type": "code",
   "execution_count": null,
   "metadata": {
    "collapsed": false
   },
   "outputs": [],
   "source": [
    "pols2 = trim_edges(pacnet, weight=math.exp(5.3))\n",
    "plt.figure(figsize = (20,20))\n",
    "weights2 = [edata['weight'] for f,t,edata in pols2.edges(data=True)]\n",
    "nx.draw_networkx(pols2)"
   ]
  },
  {
   "cell_type": "markdown",
   "metadata": {},
   "source": [
    "In the graph below, I projected the edge data on all politicians and trimmed the network to include the 12 nodes with the heighest weights. The profile of the politicans is interesting, as it only includes congressmen, not presidential candidates. All but four of the nodes in the graph are Republican Senators with a variety of powerful committee assignments. Two of the nodes - Kevin McCarthy and Patrick Tiberi - similarly hold powerful positions in the House. (McCarthy is the current Majority Leader and Tiberi a senior member of the Ways and Means committee.) The two Democrats in the graph - Chuck Schumer and Patty Murray - have both chaired the Democratic Senatorial Campaign Committee. Murray has also chaired the Senate's Budget Committee. This small network shows us that the most connected politicans are those that serve or have served as leaders of various commmittees with powerful financial roles in politics and campaign cycles. Republican Sen. Rob Portman seems to be the most connected in the network."
   ]
  },
  {
   "cell_type": "code",
   "execution_count": null,
   "metadata": {
    "collapsed": false
   },
   "outputs": [],
   "source": [
    "cannet = bi.weighted_projected_graph(G, allPols, ratio=False)  \n",
    "cannet_trim = trim_edges(cannet, weight=190)\n",
    "weights = [edata['weight'] for f,t,edata in cannet_trim.edges(data=True)] \n",
    "plt.figure(figsize=(12,12))\n",
    "nx.draw_networkx(cannet_trim)"
   ]
  },
  {
   "cell_type": "markdown",
   "metadata": {},
   "source": [
    "The following two commands will return all possible values in the committee designation and interest group category columns. We can use these values to subset our dataframe and look at new networks."
   ]
  },
  {
   "cell_type": "code",
   "execution_count": null,
   "metadata": {
    "collapsed": false
   },
   "outputs": [],
   "source": [
    "combined['committee_designation'].unique()"
   ]
  },
  {
   "cell_type": "code",
   "execution_count": null,
   "metadata": {
    "collapsed": false
   },
   "outputs": [],
   "source": [
    "combined['interest_group_category'].unique()"
   ]
  },
  {
   "cell_type": "markdown",
   "metadata": {},
   "source": [
    "Here we narrow the edges to only include contributions from committees defined as corporations. It also demonstrates a highly connected network of defense contractors and telecommunications companies."
   ]
  },
  {
   "cell_type": "code",
   "execution_count": null,
   "metadata": {
    "collapsed": false
   },
   "outputs": [],
   "source": [
    "corpContributions = combined[combined.interest_group_category == 'corporation']\n",
    "G3 = nx.Graph()\n",
    "allComs3 = []\n",
    "allPols3 = []\n",
    "for index, row in corpContributions.T.iteritems():\n",
    "    if row['candidate_name'] not in allPols3:\n",
    "        allPols3.append(row['candidate_name'])\n",
    "    if row['committee_name'] not in allComs3:\n",
    "        allComs3.append(row['committee_name'])\n",
    "    G3.add_edge(row['candidate_name'],row['committee_name'])\n",
    "cannet3 = bi.weighted_projected_graph(G3, allComs3, ratio=False)  \n",
    "weights3 = [edata['weight'] for f,t,edata in cannet3.edges(data=True)] \n",
    "cannet_trim3 = trim_edges(cannet3, weight=172) \n",
    "plt.figure(figsize=(16,16))\n",
    "nx.draw_networkx(cannet_trim3)"
   ]
  },
  {
   "cell_type": "markdown",
   "metadata": {},
   "source": [
    "Now we will look specifically at contribution data for the 2016 Presidential election. The structure of the network is interesting in that Hillary Clinton seems to be closely linked to a number of establishment Republicans. This indicates that committees that donated to Hillary Clinton also donated to a number of Repepublican candidates. It is also interesting that Jeb Bush is only connected to Secretary Clinton, and doesn't seem to be linked to any of the other candidates."
   ]
  },
  {
   "cell_type": "code",
   "execution_count": null,
   "metadata": {
    "collapsed": false
   },
   "outputs": [],
   "source": [
    "pres_primary = combined[(combined.office == 'President') & (combined.candidate_elected == 2016)]\n",
    "G4 = nx.Graph()\n",
    "allComs4 = []\n",
    "allPols4 = []\n",
    "for index, row in pres_primary.T.iteritems():\n",
    "    if row['candidate_name'] not in allPols4:\n",
    "        allPols4.append(row['candidate_name'])\n",
    "    if row['committee_name'] not in allComs4:\n",
    "        allComs4.append(row['committee_name'])\n",
    "    G4.add_edge(row['candidate_name'],row['committee_name'])\n",
    "cannet4 = bi.weighted_projected_graph(G4, allPols4, ratio=False)  \n",
    "weights4 = [edata['weight'] for f,t,edata in cannet4.edges(data=True)] \n",
    "cannet_trim4 = trim_edges(cannet4, weight=1.6) \n",
    "plt.figure(figsize=(12,12))\n",
    "nx.draw_networkx(cannet_trim4,width=weights4)"
   ]
  },
  {
   "cell_type": "markdown",
   "metadata": {},
   "source": [
    "To get a list of contributors to a particular candidate for President, we need only filter the pres_primary dataframe and reduce it to a list of unique edges. Here is a list of all committees that have contributed to Rubio."
   ]
  },
  {
   "cell_type": "code",
   "execution_count": null,
   "metadata": {
    "collapsed": false
   },
   "outputs": [],
   "source": [
    "pres_primary[pres_primary.candidate_name == 'CLINTON, HILLARY RODHAM'].committee_name.unique()"
   ]
  },
  {
   "cell_type": "markdown",
   "metadata": {},
   "source": [
    "We can further evaluate the centrality of the candidates and committees in each network with Networkx's built-in degree centrality measures. The following call shows us, in descending order of degree centrality, the nodes in the network of corporate committee donations. We see that it is mostly corporations that have given donations to a number of politicians, and a few of the politicians who have received the most donations from various corporations."
   ]
  },
  {
   "cell_type": "code",
   "execution_count": null,
   "metadata": {
    "collapsed": false
   },
   "outputs": [],
   "source": [
    "degree_centrality = nx.degree_centrality(G3)\n",
    "degree_centrality_sorted = sorted(degree_centrality.iteritems(),key=lambda(k,v):(-v,k))\n",
    "degree_centrality_sorted[0:14]"
   ]
  }
 ],
 "metadata": {
  "kernelspec": {
   "display_name": "Python 2",
   "language": "python",
   "name": "python2"
  },
  "language_info": {
   "codemirror_mode": {
    "name": "ipython",
    "version": 2
   },
   "file_extension": ".py",
   "mimetype": "text/x-python",
   "name": "python",
   "nbconvert_exporter": "python",
   "pygments_lexer": "ipython2",
   "version": "2.7.10"
  }
 },
 "nbformat": 4,
 "nbformat_minor": 0
}
