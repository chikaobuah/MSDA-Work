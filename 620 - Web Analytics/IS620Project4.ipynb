{
 "cells": [
  {
   "cell_type": "markdown",
   "metadata": {},
   "source": [
    "Project 4"
   ]
  },
  {
   "cell_type": "markdown",
   "metadata": {},
   "source": [
    "Using the Senseval corpus, we will train a classifier that predicts that tag for each instance of the word 'interest' based on the context of the position of the word, and the context of the words directly preceding and following it."
   ]
  },
  {
   "cell_type": "code",
   "execution_count": 126,
   "metadata": {
    "collapsed": true
   },
   "outputs": [],
   "source": [
    "import nltk\n",
    "from nltk.corpus import senseval\n",
    "instances = senseval.instances('interest.pos')\n",
    "size = int(len(instances)*0.1)\n",
    "train_set, test_set = instances[size:], instances[:size]"
   ]
  },
  {
   "cell_type": "markdown",
   "metadata": {},
   "source": [
    "Here we see that there are 5 sense categories for the word 'interest'."
   ]
  },
  {
   "cell_type": "code",
   "execution_count": 127,
   "metadata": {
    "collapsed": false
   },
   "outputs": [
    {
     "data": {
      "text/plain": [
       "['interest_6',\n",
       " 'interest_5',\n",
       " 'interest_4',\n",
       " 'interest_1',\n",
       " 'interest_3',\n",
       " 'interest_2']"
      ]
     },
     "execution_count": 127,
     "metadata": {},
     "output_type": "execute_result"
    }
   ],
   "source": [
    "hardTypes = []\n",
    "for each in instances:\n",
    "    if each.senses[0] not in hardTypes:\n",
    "        hardTypes.append(each.senses[0])\n",
    "hardTypes"
   ]
  },
  {
   "cell_type": "code",
   "execution_count": 147,
   "metadata": {
    "collapsed": false
   },
   "outputs": [],
   "source": [
    "def addFeatures(each):\n",
    "    features = {}\n",
    "    n = each.position\n",
    "    features['context at n'] = each.context[n][0]\n",
    "    features['context at n-1'] = each.context[n-1][0]\n",
    "    features['context at n+1'] = each.context[n+1][0]\n",
    "    return features\n",
    "\n",
    "train = [(addFeatures(each),each.senses[0]) for each in train_set]\n",
    "test = [(addFeatures(each),each.senses[0]) for each in test_set]"
   ]
  },
  {
   "cell_type": "code",
   "execution_count": 148,
   "metadata": {
    "collapsed": false
   },
   "outputs": [
    {
     "name": "stdout",
     "output_type": "stream",
     "text": [
      "Most Informative Features\n",
      "            context at n = 'interests'    intere : intere =     70.7 : 1.0\n",
      "          context at n+1 = 'in'           intere : intere =     63.6 : 1.0\n",
      "          context at n-1 = 'other'        intere : intere =     53.7 : 1.0\n",
      "          context at n+1 = 'of'           intere : intere =     39.8 : 1.0\n",
      "          context at n-1 = 'and'          intere : intere =     18.3 : 1.0\n",
      "          context at n-1 = 'in'           intere : intere =     17.6 : 1.0\n",
      "          context at n-1 = 'own'          intere : intere =     15.1 : 1.0\n",
      "          context at n+1 = '.'            intere : intere =     13.8 : 1.0\n",
      "          context at n+1 = 'rose'         intere : intere =     13.8 : 1.0\n",
      "          context at n+1 = 'because'      intere : intere =     12.7 : 1.0\n"
     ]
    }
   ],
   "source": [
    "classifier = nltk.NaiveBayesClassifier.train(train)\n",
    "classifier.show_most_informative_features()"
   ]
  },
  {
   "cell_type": "markdown",
   "metadata": {},
   "source": [
    "Here we see that the accuracy is almost 90%"
   ]
  },
  {
   "cell_type": "code",
   "execution_count": 149,
   "metadata": {
    "collapsed": false
   },
   "outputs": [
    {
     "name": "stdout",
     "output_type": "stream",
     "text": [
      "0.885593220339\n"
     ]
    }
   ],
   "source": [
    "print(nltk.classify.accuracy(classifier, test))"
   ]
  },
  {
   "cell_type": "markdown",
   "metadata": {},
   "source": [
    "Now we will use the movie review document classifier to generate a list of the 30 features that the classifier finds to be most informative. First we will load the code from chapter 6 in NLTK: "
   ]
  },
  {
   "cell_type": "code",
   "execution_count": 152,
   "metadata": {
    "collapsed": false
   },
   "outputs": [
    {
     "name": "stdout",
     "output_type": "stream",
     "text": [
      "0.73\n"
     ]
    }
   ],
   "source": [
    "from nltk.corpus import movie_reviews\n",
    "import random\n",
    "\n",
    "documents = [(list(movie_reviews.words(fileid)), category)\n",
    "             for category in movie_reviews.categories()\n",
    "             for fileid in movie_reviews.fileids(category)]\n",
    "random.shuffle(documents)\n",
    "\n",
    "all_words = nltk.FreqDist(w.lower() for w in movie_reviews.words())\n",
    "word_features = list(all_words)[:2000] \n",
    "\n",
    "def document_features(document): \n",
    "    document_words = set(document)\n",
    "    features = {}\n",
    "    for word in word_features:\n",
    "        features['contains({})'.format(word)] = (word in document_words)\n",
    "    return features\n",
    "\n",
    "featuresets = [(document_features(d), c) for (d,c) in documents]\n",
    "train_set, test_set = featuresets[100:], featuresets[:100]\n",
    "classifier = nltk.NaiveBayesClassifier.train(train_set)"
   ]
  },
  {
   "cell_type": "markdown",
   "metadata": {},
   "source": [
    "Some of the most informative features make sense and some are rather surprising. A few in particular - 'maxwell', 'matheson', 'prescott', 'leia', 'wang', 'lang', and 'minnie' seem to be either first or last name and are probably faulty indicators - those whose frequent mention in review(s) may have landed them on the most informative features list. Other words such as 'sans', 'mediocrity','tripe', and 'ugh' are negative, so their neg:pos ratios make sense. The association of 'gadget', 'wire', and 'Bruckheimer' are also negative, perhaps because of their association with action movies with clumsy narratives. What surprises me the most about the features are that only 8 out of the 30 are more indicative of negativity than positivity. I would have guessed that movie reviews are more critical than positive. This may still be the case, however, as reviewers may employ more diverse and specific language when criticizing a film, thereby making words less indicative the less frequent they are, than they are while praising a film, where they may relay on generic vocabulary (i.e. 'uplifting', 'effortlessy', 'testament', 'admired')."
   ]
  },
  {
   "cell_type": "code",
   "execution_count": 153,
   "metadata": {
    "collapsed": false
   },
   "outputs": [
    {
     "name": "stdout",
     "output_type": "stream",
     "text": [
      "Most Informative Features\n",
      "          contains(sans) = True              neg : pos    =      9.1 : 1.0\n",
      "    contains(mediocrity) = True              neg : pos    =      7.7 : 1.0\n",
      "   contains(bruckheimer) = True              neg : pos    =      6.4 : 1.0\n",
      "         contains(wires) = True              neg : pos    =      6.4 : 1.0\n",
      "        contains(fabric) = True              pos : neg    =      6.3 : 1.0\n",
      "   contains(overwhelmed) = True              pos : neg    =      6.3 : 1.0\n",
      "     contains(dismissed) = True              pos : neg    =      6.3 : 1.0\n",
      "   contains(understands) = True              pos : neg    =      6.1 : 1.0\n",
      "        contains(gadget) = True              neg : pos    =      5.7 : 1.0\n",
      "           contains(ugh) = True              neg : pos    =      5.4 : 1.0\n",
      "     contains(uplifting) = True              pos : neg    =      5.2 : 1.0\n",
      "       contains(topping) = True              pos : neg    =      5.0 : 1.0\n",
      "          contains(wits) = True              pos : neg    =      5.0 : 1.0\n",
      "         contains(tripe) = True              neg : pos    =      4.6 : 1.0\n",
      "        contains(doubts) = True              pos : neg    =      4.6 : 1.0\n",
      "       contains(flooded) = True              neg : pos    =      4.4 : 1.0\n",
      "       contains(maxwell) = True              neg : pos    =      4.4 : 1.0\n",
      "      contains(matheson) = True              pos : neg    =      4.3 : 1.0\n",
      "      contains(prescott) = True              pos : neg    =      4.3 : 1.0\n",
      "          contains(leia) = True              pos : neg    =      4.3 : 1.0\n",
      "         contains(spins) = True              pos : neg    =      4.3 : 1.0\n",
      "          contains(wang) = True              pos : neg    =      4.3 : 1.0\n",
      "          contains(lang) = True              pos : neg    =      4.3 : 1.0\n",
      "   contains(unwittingly) = True              pos : neg    =      4.2 : 1.0\n",
      "    contains(cronenberg) = True              pos : neg    =      4.2 : 1.0\n",
      "  contains(effortlessly) = True              pos : neg    =      4.1 : 1.0\n",
      "     contains(testament) = True              pos : neg    =      3.9 : 1.0\n",
      "        contains(minnie) = True              pos : neg    =      3.8 : 1.0\n",
      "       contains(admired) = True              pos : neg    =      3.8 : 1.0\n",
      "          contains(hugo) = True              pos : neg    =      3.8 : 1.0\n"
     ]
    }
   ],
   "source": [
    "classifier.show_most_informative_features(30)"
   ]
  }
 ],
 "metadata": {
  "kernelspec": {
   "display_name": "Python 2",
   "language": "python",
   "name": "python2"
  },
  "language_info": {
   "codemirror_mode": {
    "name": "ipython",
    "version": 2
   },
   "file_extension": ".py",
   "mimetype": "text/x-python",
   "name": "python",
   "nbconvert_exporter": "python",
   "pygments_lexer": "ipython2",
   "version": "2.7.10"
  }
 },
 "nbformat": 4,
 "nbformat_minor": 0
}
